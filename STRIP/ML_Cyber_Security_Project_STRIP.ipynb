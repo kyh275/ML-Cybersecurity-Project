{
  "nbformat": 4,
  "nbformat_minor": 0,
  "metadata": {
    "colab": {
      "name": "ML Cyber Security Project STRIP.ipynb",
      "provenance": [],
      "collapsed_sections": [],
      "toc_visible": true
    },
    "kernelspec": {
      "name": "python3",
      "display_name": "Python 3"
    }
  },
  "cells": [
    {
      "cell_type": "code",
      "metadata": {
        "id": "toB7X4wmIwmM"
      },
      "source": [
        "import keras\r\n",
        "import keras.backend as K\r\n",
        "import numpy as np\r\n",
        "import matplotlib.pyplot as plt\r\n",
        "import matplotlib.pylab as plb\r\n",
        "import h5py\r\n",
        "import tensorflow as tf\r\n",
        "from PIL import Image\r\n",
        "import heapq\r\n",
        "import collections\r\n",
        "\r\n",
        "from tqdm import tqdm\r\n",
        "from functools import partial\r\n",
        "import math\r\n",
        "import random"
      ],
      "execution_count": null,
      "outputs": []
    },
    {
      "cell_type": "code",
      "metadata": {
        "colab": {
          "base_uri": "https://localhost:8080/"
        },
        "id": "8F8cyRB79Ko7",
        "outputId": "00ce7dd9-f3e0-4403-a6e2-bb9a4cede3c5"
      },
      "source": [
        "!git clone https://github.com/csaw-hackml/CSAW-HackML-2020"
      ],
      "execution_count": null,
      "outputs": [
        {
          "output_type": "stream",
          "text": [
            "Cloning into 'CSAW-HackML-2020'...\n",
            "remote: Enumerating objects: 17, done.\u001b[K\n",
            "remote: Counting objects: 100% (17/17), done.\u001b[K\n",
            "remote: Compressing objects: 100% (11/11), done.\u001b[K\n",
            "remote: Total 158 (delta 7), reused 16 (delta 6), pack-reused 141\u001b[K\n",
            "Receiving objects: 100% (158/158), 79.56 MiB | 35.46 MiB/s, done.\n",
            "Resolving deltas: 100% (50/50), done.\n"
          ],
          "name": "stdout"
        }
      ]
    },
    {
      "cell_type": "code",
      "metadata": {
        "id": "q7Bi7H0fE2dU"
      },
      "source": [
        "#data_gd_id = [\"1XtYnM-IopU-QYVc99U51EiDvI5zxK0nV\", \r\n",
        "#              \"19OKCkY2CjV3ASkOe6nMSYTsOVcxAoCnA\", \r\n",
        "#              \"1P8PTL62x3cfpV9mrC0unqZjRFhlTTOSG\",\r\n",
        "#              \"1XFKaTse6gflUFK7lDPxXBUaq4oQA8-qy\"]\r\n",
        "\r\n",
        "data_gd_id = [\"1oG8WdyeAHdHJ2Zi1KXFdcZ4tx1obVCT0\",\r\n",
        "              \"1eoe_Q4wsnpl5KIXNkjiU9KHMQw3mpY4T\",\r\n",
        "              \"1Yuf_Vd39gM0jya5TJ24MJiLcCh8Xuinp\",\r\n",
        "              \"1cPQ0asuQgPUd8Y5nqnstxftHbLKLzGVJ\"]"
      ],
      "execution_count": null,
      "outputs": []
    },
    {
      "cell_type": "code",
      "metadata": {
        "colab": {
          "base_uri": "https://localhost:8080/"
        },
        "id": "WA_eDCH1FkKV",
        "outputId": "7ba91b74-770e-4981-81b0-ffcd25cdd7ae"
      },
      "source": [
        "%cd /content/CSAW-HackML-2020/data/\r\n",
        "for gd_id in data_gd_id :\r\n",
        "  !gdown --id \"$gd_id\"\r\n",
        "%cd /content/CSAW-HackML-2020/"
      ],
      "execution_count": null,
      "outputs": [
        {
          "output_type": "stream",
          "text": [
            "/content/CSAW-HackML-2020/data\n",
            "Downloading...\n",
            "From: https://drive.google.com/uc?id=1oG8WdyeAHdHJ2Zi1KXFdcZ4tx1obVCT0\n",
            "To: /content/CSAW-HackML-2020/data/clean_validation_data.h5\n",
            "716MB [00:07, 102MB/s]\n",
            "Downloading...\n",
            "From: https://drive.google.com/uc?id=1eoe_Q4wsnpl5KIXNkjiU9KHMQw3mpY4T\n",
            "To: /content/CSAW-HackML-2020/data/clean_test_data.h5\n",
            "398MB [00:04, 97.4MB/s]\n",
            "Downloading...\n",
            "From: https://drive.google.com/uc?id=1Yuf_Vd39gM0jya5TJ24MJiLcCh8Xuinp\n",
            "To: /content/CSAW-HackML-2020/data/sunglasses_poisoned_data.h5\n",
            "398MB [00:05, 68.7MB/s]\n",
            "Downloading...\n",
            "From: https://drive.google.com/uc?id=1cPQ0asuQgPUd8Y5nqnstxftHbLKLzGVJ\n",
            "To: /content/CSAW-HackML-2020/data/anonymous_1_poisoned_data.h5\n",
            "637MB [00:09, 70.6MB/s]\n",
            "/content/CSAW-HackML-2020\n"
          ],
          "name": "stdout"
        }
      ]
    },
    {
      "cell_type": "code",
      "metadata": {
        "id": "aZ-rrBFasnLo"
      },
      "source": [
        "#multi_data_gd_id = [\"145qetPRDNRfvNXjjHhHFwPZ8CMfBUGOp\", \r\n",
        "#                    \"1TiBviHoi-nh-aDRCP-1ZQlP0Nis6wOCw\", \r\n",
        "#                    \"1SrObV38DPLgsMfpPYTdeX7nzjrEUAEwW\"]\r\n",
        "\r\n",
        "multi_data_gd_id = [\"1M4BCeldQFgfUYAv8-dW-XDeYB293AU93\",\r\n",
        "                      \"1szVcbOWaHiQrfFDC6IZUE18Kl5tcpaI7\",\r\n",
        "                      \"1ut8_kNzFxKi-BWKWHADIJUO--o7TGi9q\"]                "
      ],
      "execution_count": null,
      "outputs": []
    },
    {
      "cell_type": "code",
      "metadata": {
        "colab": {
          "base_uri": "https://localhost:8080/"
        },
        "id": "W5LsDF6Kr8ag",
        "outputId": "62d25b8f-a44f-42f6-a7f5-4984458adcb7"
      },
      "source": [
        "%cd /content/CSAW-HackML-2020/data/\r\n",
        "!mkdir Multi-trigger-Multi-target\r\n",
        "%cd /content/CSAW-HackML-2020/data/Multi-trigger-Multi-target\r\n",
        "for gd_id in multi_data_gd_id :\r\n",
        "   !gdown --id \"$gd_id\"\r\n",
        "%cd /content/CSAW-HackML-2020/"
      ],
      "execution_count": null,
      "outputs": [
        {
          "output_type": "stream",
          "text": [
            "/content/CSAW-HackML-2020/data\n",
            "/content/CSAW-HackML-2020/data/Multi-trigger-Multi-target\n",
            "Downloading...\n",
            "From: https://drive.google.com/uc?id=1M4BCeldQFgfUYAv8-dW-XDeYB293AU93\n",
            "To: /content/CSAW-HackML-2020/data/Multi-trigger-Multi-target/eyebrows_poisoned_data.h5\n",
            "637MB [00:09, 66.0MB/s]\n",
            "Downloading...\n",
            "From: https://drive.google.com/uc?id=1szVcbOWaHiQrfFDC6IZUE18Kl5tcpaI7\n",
            "To: /content/CSAW-HackML-2020/data/Multi-trigger-Multi-target/lipstick_poisoned_data.h5\n",
            "637MB [00:10, 63.0MB/s]\n",
            "Downloading...\n",
            "From: https://drive.google.com/uc?id=1ut8_kNzFxKi-BWKWHADIJUO--o7TGi9q\n",
            "To: /content/CSAW-HackML-2020/data/Multi-trigger-Multi-target/sunglasses_poisoned_data.h5\n",
            "637MB [00:08, 72.8MB/s]\n",
            "/content/CSAW-HackML-2020\n"
          ],
          "name": "stdout"
        }
      ]
    },
    {
      "cell_type": "code",
      "metadata": {
        "id": "5GsSu6T-KmVQ",
        "colab": {
          "base_uri": "https://localhost:8080/"
        },
        "outputId": "0251540f-a1db-4f38-dfd7-95fdffb6c33e"
      },
      "source": [
        "sunglasses_data = h5py.File('data/sunglasses_poisoned_data.h5', 'r')\r\n",
        "list(sunglasses_data.keys())"
      ],
      "execution_count": null,
      "outputs": [
        {
          "output_type": "execute_result",
          "data": {
            "text/plain": [
              "['data', 'label']"
            ]
          },
          "metadata": {
            "tags": []
          },
          "execution_count": 7
        }
      ]
    },
    {
      "cell_type": "code",
      "metadata": {
        "id": "xvLUY1SaK0mP"
      },
      "source": [
        "dset = sunglasses_data['data']\r\n",
        "label = sunglasses_data['label']"
      ],
      "execution_count": null,
      "outputs": []
    },
    {
      "cell_type": "code",
      "metadata": {
        "id": "Q4qwQDnrK3Lq",
        "colab": {
          "base_uri": "https://localhost:8080/"
        },
        "outputId": "680e7e9e-fa14-4032-bd04-00be2ba58b6b"
      },
      "source": [
        "dset.shape"
      ],
      "execution_count": null,
      "outputs": [
        {
          "output_type": "execute_result",
          "data": {
            "text/plain": [
              "(12830, 3, 55, 47)"
            ]
          },
          "metadata": {
            "tags": []
          },
          "execution_count": 9
        }
      ]
    },
    {
      "cell_type": "code",
      "metadata": {
        "id": "mraMYVaANy90"
      },
      "source": [
        "def plt_img(np_array: np.ndarray):\r\n",
        "  assert_msg = 'Input shall be a 3XHxW ndarray'\r\n",
        "  assert isinstance(np_array, np.ndarray), assert_msg\r\n",
        "  assert len(np_array.shape) == 3, assert_msg\r\n",
        "  assert np_array.shape[2] == 3, assert_msg\r\n",
        "\r\n",
        "  plt.imshow(np_array)\r\n",
        "  plt.show()\r\n",
        "\r\n",
        "def plt_img_3HW(np_array: np.ndarray):\r\n",
        "  assert_msg = 'Input shall be a 3XHxW ndarray'\r\n",
        "  assert isinstance(np_array, np.ndarray), assert_msg\r\n",
        "  assert len(np_array.shape) == 3, assert_msg\r\n",
        "  assert np_array.shape[0] == 3, assert_msg\r\n",
        "  img_array = np.transpose(np_array.astype(int), (1, 2, 0))\r\n",
        "  plt_img(img_array)\r\n",
        "  "
      ],
      "execution_count": null,
      "outputs": []
    },
    {
      "cell_type": "code",
      "metadata": {
        "id": "USd7tZ8WPs5y",
        "colab": {
          "base_uri": "https://localhost:8080/",
          "height": 267
        },
        "outputId": "6bcbca69-db0e-4e17-9ff0-4626b6ef7f98"
      },
      "source": [
        "plt_img_3HW(dset[12463])"
      ],
      "execution_count": null,
      "outputs": [
        {
          "output_type": "display_data",
          "data": {
            "image/png": "[encoded data removed]",
            "text/plain": [
              "<Figure size 432x288 with 1 Axes>"
            ]
          },
          "metadata": {
            "tags": [],
            "needs_background": "light"
          }
        }
      ]
    },
    {
      "cell_type": "code",
      "metadata": {
        "id": "jk91XTD6TiWj",
        "colab": {
          "base_uri": "https://localhost:8080/"
        },
        "outputId": "4a41d9c1-a11b-488c-b3f3-e04c707953b8"
      },
      "source": [
        "collections.Counter(label)"
      ],
      "execution_count": null,
      "outputs": [
        {
          "output_type": "execute_result",
          "data": {
            "text/plain": [
              "Counter({0: 12830})"
            ]
          },
          "metadata": {
            "tags": []
          },
          "execution_count": 12
        }
      ]
    },
    {
      "cell_type": "code",
      "metadata": {
        "id": "zIL1wGq0Uwyv",
        "colab": {
          "base_uri": "https://localhost:8080/"
        },
        "outputId": "4986c930-ea08-42af-aaad-cfdce7f8599a"
      },
      "source": [
        "clean_data = h5py.File('data/clean_validation_data.h5','r')\r\n",
        "count_ct = collections.Counter(clean_data['label'])\r\n",
        "print(count_ct)"
      ],
      "execution_count": null,
      "outputs": [
        {
          "output_type": "stream",
          "text": [
            "Counter({43.0: 9, 328.0: 9, 196.0: 9, 1268.0: 9, 748.0: 9, 105.0: 9, 62.0: 9, 868.0: 9, 854.0: 9, 426.0: 9, 728.0: 9, 137.0: 9, 833.0: 9, 340.0: 9, 460.0: 9, 252.0: 9, 1164.0: 9, 675.0: 9, 1202.0: 9, 905.0: 9, 351.0: 9, 569.0: 9, 671.0: 9, 831.0: 9, 1160.0: 9, 452.0: 9, 244.0: 9, 1069.0: 9, 254.0: 9, 80.0: 9, 563.0: 9, 1033.0: 9, 1075.0: 9, 1206.0: 9, 741.0: 9, 147.0: 9, 696.0: 9, 1191.0: 9, 924.0: 9, 1174.0: 9, 976.0: 9, 662.0: 9, 37.0: 9, 604.0: 9, 941.0: 9, 967.0: 9, 442.0: 9, 500.0: 9, 571.0: 9, 193.0: 9, 934.0: 9, 935.0: 9, 1055.0: 9, 1265.0: 9, 71.0: 9, 520.0: 9, 1068.0: 9, 341.0: 9, 580.0: 9, 678.0: 9, 564.0: 9, 1095.0: 9, 1189.0: 9, 987.0: 9, 1129.0: 9, 729.0: 9, 65.0: 9, 625.0: 9, 787.0: 9, 375.0: 9, 1065.0: 9, 957.0: 9, 510.0: 9, 0.0: 9, 235.0: 9, 841.0: 9, 827.0: 9, 658.0: 9, 464.0: 9, 591.0: 9, 179.0: 9, 1237.0: 9, 1216.0: 9, 978.0: 9, 654.0: 9, 901.0: 9, 909.0: 9, 860.0: 9, 882.0: 9, 281.0: 9, 1267.0: 9, 744.0: 9, 216.0: 9, 1145.0: 9, 923.0: 9, 705.0: 9, 803.0: 9, 586.0: 9, 492.0: 9, 76.0: 9, 31.0: 9, 170.0: 9, 181.0: 9, 227.0: 9, 270.0: 9, 916.0: 9, 752.0: 9, 478.0: 9, 559.0: 9, 1063.0: 9, 703.0: 9, 311.0: 9, 237.0: 9, 1271.0: 9, 822.0: 9, 189.0: 9, 1124.0: 9, 431.0: 9, 903.0: 9, 1260.0: 9, 89.0: 9, 393.0: 9, 980.0: 9, 443.0: 9, 446.0: 9, 480.0: 9, 352.0: 9, 273.0: 9, 192.0: 9, 926.0: 9, 917.0: 9, 51.0: 9, 218.0: 9, 1280.0: 9, 789.0: 9, 1236.0: 9, 5.0: 9, 457.0: 9, 936.0: 9, 42.0: 9, 314.0: 9, 1041.0: 9, 233.0: 9, 1179.0: 9, 954.0: 9, 855.0: 9, 665.0: 9, 512.0: 9, 497.0: 9, 355.0: 9, 1132.0: 9, 739.0: 9, 415.0: 9, 19.0: 9, 871.0: 9, 813.0: 9, 809.0: 9, 75.0: 9, 664.0: 9, 844.0: 9, 445.0: 9, 308.0: 9, 210.0: 9, 1127.0: 9, 529.0: 9, 1264.0: 9, 172.0: 9, 1115.0: 9, 353.0: 9, 829.0: 9, 1171.0: 9, 171.0: 9, 448.0: 9, 61.0: 9, 715.0: 9, 300.0: 9, 1221.0: 9, 162.0: 9, 592.0: 9, 879.0: 9, 595.0: 9, 197.0: 9, 584.0: 9, 949.0: 9, 1022.0: 9, 527.0: 9, 585.0: 9, 306.0: 9, 472.0: 9, 575.0: 9, 6.0: 9, 250.0: 9, 1062.0: 9, 1031.0: 9, 660.0: 9, 620.0: 9, 2.0: 9, 1049.0: 9, 493.0: 9, 749.0: 9, 700.0: 9, 648.0: 9, 866.0: 9, 674.0: 9, 221.0: 9, 952.0: 9, 786.0: 9, 762.0: 9, 1240.0: 9, 397.0: 9, 1044.0: 9, 904.0: 9, 902.0: 9, 643.0: 9, 629.0: 9, 776.0: 9, 955.0: 9, 911.0: 9, 819.0: 9, 642.0: 9, 23.0: 9, 1076.0: 9, 539.0: 9, 979.0: 9, 1114.0: 9, 59.0: 9, 34.0: 9, 333.0: 9, 94.0: 9, 532.0: 9, 951.0: 9, 386.0: 9, 573.0: 9, 148.0: 9, 709.0: 9, 1122.0: 9, 242.0: 9, 238.0: 9, 723.0: 9, 1016.0: 9, 608.0: 9, 694.0: 9, 982.0: 9, 93.0: 9, 686.0: 9, 1027.0: 9, 157.0: 9, 226.0: 9, 339.0: 9, 115.0: 9, 719.0: 9, 921.0: 9, 307.0: 9, 25.0: 9, 499.0: 9, 1103.0: 9, 1219.0: 9, 545.0: 9, 1140.0: 9, 410.0: 9, 1013.0: 9, 1042.0: 9, 1159.0: 9, 203.0: 9, 1227.0: 9, 1194.0: 9, 316.0: 9, 315.0: 9, 323.0: 9, 623.0: 9, 381.0: 9, 124.0: 9, 18.0: 9, 264.0: 9, 309.0: 9, 1229.0: 9, 730.0: 9, 1228.0: 9, 88.0: 9, 1203.0: 9, 267.0: 9, 1209.0: 9, 1128.0: 9, 894.0: 9, 1187.0: 9, 788.0: 9, 1032.0: 9, 74.0: 9, 326.0: 9, 1007.0: 9, 566.0: 9, 1250.0: 9, 637.0: 9, 1163.0: 9, 622.0: 9, 156.0: 9, 771.0: 9, 1079.0: 9, 297.0: 9, 463.0: 9, 360.0: 9, 927.0: 9, 908.0: 9, 685.0: 9, 548.0: 9, 772.0: 9, 1239.0: 9, 1130.0: 9, 817.0: 9, 206.0: 9, 880.0: 9, 995.0: 9, 972.0: 9, 815.0: 9, 458.0: 9, 650.0: 9, 578.0: 9, 60.0: 9, 540.0: 9, 1121.0: 9, 435.0: 9, 122.0: 9, 582.0: 9, 1112.0: 9, 602.0: 9, 26.0: 9, 535.0: 9, 205.0: 9, 1019.0: 9, 683.0: 9, 207.0: 9, 589.0: 9, 933.0: 9, 329.0: 9, 724.0: 9, 850.0: 9, 858.0: 9, 129.0: 9, 836.0: 9, 1072.0: 9, 68.0: 9, 1166.0: 9, 67.0: 9, 149.0: 9, 48.0: 9, 784.0: 9, 989.0: 9, 609.0: 9, 489.0: 9, 28.0: 9, 330.0: 9, 420.0: 9, 733.0: 9, 236.0: 9, 1100.0: 9, 799.0: 9, 653.0: 9, 1231.0: 9, 215.0: 9, 635.0: 9, 892.0: 9, 968.0: 9, 565.0: 9, 1211.0: 9, 1056.0: 9, 613.0: 9, 884.0: 9, 717.0: 9, 897.0: 9, 438.0: 9, 840.0: 9, 57.0: 9, 969.0: 9, 551.0: 9, 588.0: 9, 619.0: 9, 1248.0: 9, 865.0: 9, 345.0: 9, 760.0: 9, 802.0: 9, 537.0: 9, 781.0: 9, 199.0: 9, 655.0: 9, 692.0: 9, 465.0: 9, 605.0: 9, 384.0: 9, 554.0: 9, 852.0: 9, 1025.0: 9, 245.0: 9, 736.0: 9, 883.0: 9, 69.0: 9, 824.0: 9, 63.0: 9, 593.0: 9, 485.0: 9, 318.0: 9, 299.0: 9, 725.0: 9, 948.0: 9, 1093.0: 9, 1199.0: 9, 618.0: 9, 473.0: 9, 234.0: 9, 230.0: 9, 943.0: 9, 358.0: 9, 337.0: 9, 768.0: 9, 603.0: 9, 349.0: 9, 459.0: 9, 376.0: 9, 856.0: 9, 937.0: 9, 1024.0: 9, 656.0: 9, 636.0: 9, 777.0: 9, 946.0: 9, 369.0: 9, 1251.0: 9, 1192.0: 9, 403.0: 9, 86.0: 9, 348.0: 9, 241.0: 9, 670.0: 9, 1092.0: 9, 462.0: 9, 49.0: 9, 726.0: 9, 146.0: 9, 101.0: 9, 367.0: 9, 319.0: 9, 408.0: 9, 1222.0: 9, 562.0: 9, 1053.0: 9, 1245.0: 9, 1183.0: 9, 1111.0: 9, 560.0: 9, 131.0: 9, 651.0: 9, 708.0: 9, 45.0: 9, 1225.0: 9, 944.0: 9, 697.0: 9, 104.0: 9, 754.0: 9, 1026.0: 9, 52.0: 9, 229.0: 9, 44.0: 9, 338.0: 9, 202.0: 9, 382.0: 9, 638.0: 9, 379.0: 9, 24.0: 9, 839.0: 9, 931.0: 9, 346.0: 9, 1021.0: 9, 666.0: 9, 1162.0: 9, 1058.0: 9, 1234.0: 9, 232.0: 9, 1282.0: 9, 406.0: 9, 1135.0: 9, 546.0: 9, 378.0: 9, 838.0: 9, 794.0: 9, 1242.0: 9, 881.0: 9, 1193.0: 9, 930.0: 9, 388.0: 9, 154.0: 9, 541.0: 9, 449.0: 9, 677.0: 9, 283.0: 9, 611.0: 9, 1249.0: 9, 507.0: 9, 640.0: 9, 524.0: 9, 718.0: 9, 423.0: 9, 632.0: 9, 832.0: 9, 1003.0: 9, 47.0: 9, 531.0: 9, 594.0: 9, 21.0: 9, 1018.0: 9, 1275.0: 9, 390.0: 9, 720.0: 9, 706.0: 9, 482.0: 9, 139.0: 9, 268.0: 9, 526.0: 9, 114.0: 9, 766.0: 9, 1133.0: 9, 528.0: 9, 820.0: 9, 555.0: 9, 427.0: 9, 424.0: 9, 324.0: 9, 83.0: 9, 117.0: 9, 873.0: 9, 721.0: 9, 870.0: 9, 258.0: 9, 1126.0: 9, 862.0: 9, 1144.0: 9, 64.0: 9, 722.0: 9, 1186.0: 9, 601.0: 9, 506.0: 9, 284.0: 9, 1002.0: 9, 1051.0: 9, 534.0: 9, 183.0: 9, 614.0: 9, 919.0: 9, 1263.0: 9, 769.0: 9, 428.0: 9, 109.0: 9, 400.0: 9, 1238.0: 9, 342.0: 9, 624.0: 9, 66.0: 9, 477.0: 9, 918.0: 9, 110.0: 9, 734.0: 9, 1246.0: 9, 521.0: 9, 525.0: 9, 208.0: 9, 997.0: 9, 947.0: 9, 265.0: 9, 828.0: 9, 484.0: 9, 27.0: 9, 1086.0: 9, 371.0: 9, 112.0: 9, 523.0: 9, 182.0: 9, 1118.0: 9, 581.0: 9, 1274.0: 9, 983.0: 9, 737.0: 9, 280.0: 9, 837.0: 9, 596.0: 9, 641.0: 9, 835.0: 9, 761.0: 9, 804.0: 9, 1006.0: 9, 417.0: 9, 470.0: 9, 965.0: 9, 138.0: 9, 16.0: 9, 712.0: 9, 515.0: 9, 55.0: 9, 361.0: 9, 544.0: 9, 1040.0: 9, 1106.0: 9, 1204.0: 9, 414.0: 9, 929.0: 9, 430.0: 9, 370.0: 9, 1101.0: 9, 255.0: 9, 1161.0: 9, 556.0: 9, 900.0: 9, 631.0: 9, 885.0: 9, 985.0: 9, 542.0: 9, 502.0: 9, 568.0: 9, 377.0: 9, 32.0: 9, 1272.0: 9, 543.0: 9, 1136.0: 9, 634.0: 9, 950.0: 9, 742.0: 9, 432.0: 9, 912.0: 9, 135.0: 9, 590.0: 9, 116.0: 9, 247.0: 9, 878.0: 9, 78.0: 9, 961.0: 9, 549.0: 9, 518.0: 9, 213.0: 9, 672.0: 9, 570.0: 9, 1052.0: 9, 920.0: 9, 107.0: 9, 644.0: 9, 362.0: 9, 394.0: 9, 1081.0: 9, 1185.0: 9, 1169.0: 9, 1255.0: 9, 1097.0: 9, 875.0: 9, 1269.0: 9, 699.0: 9, 505.0: 9, 1134.0: 9, 163.0: 9, 1110.0: 9, 90.0: 9, 576.0: 9, 732.0: 9, 191.0: 9, 126.0: 9, 898.0: 9, 343.0: 9, 1091.0: 9, 1276.0: 9, 1200.0: 9, 142.0: 9, 434.0: 9, 418.0: 9, 495.0: 9, 1220.0: 9, 440.0: 9, 1083.0: 9, 144.0: 9, 404.0: 9, 14.0: 9, 1074.0: 9, 474.0: 9, 774.0: 9, 830.0: 9, 1037.0: 9, 984.0: 9, 690.0: 9, 679.0: 9, 561.0: 9, 780.0: 9, 155.0: 9, 262.0: 9, 70.0: 9, 857.0: 9, 1241.0: 9, 180.0: 9, 990.0: 9, 687.0: 9, 1034.0: 9, 317.0: 9, 1005.0: 9, 1235.0: 9, 335.0: 9, 783.0: 9, 1094.0: 9, 1010.0: 9, 1256.0: 9, 301.0: 9, 407.0: 9, 161.0: 9, 22.0: 9, 293.0: 9, 261.0: 9, 996.0: 9, 469.0: 9, 877.0: 9, 572.0: 9, 597.0: 9, 600.0: 9, 767.0: 9, 190.0: 9, 1226.0: 9, 437.0: 9, 778.0: 9, 243.0: 9, 494.0: 9, 782.0: 9, 123.0: 9, 1178.0: 9, 201.0: 9, 279.0: 9, 533.0: 9, 516.0: 9, 487.0: 9, 425.0: 9, 1223.0: 9, 511.0: 9, 1066.0: 9, 359.0: 9, 1116.0: 9, 695.0: 9, 97.0: 9, 755.0: 9, 496.0: 9, 891.0: 9, 194.0: 9, 409.0: 9, 785.0: 9, 466.0: 9, 1071.0: 9, 1059.0: 9, 928.0: 9, 471.0: 9, 773.0: 9, 887.0: 9, 647.0: 9, 731.0: 9, 13.0: 9, 1015.0: 9, 1151.0: 9, 970.0: 9, 357.0: 9, 140.0: 9, 422.0: 9, 557.0: 9, 1208.0: 9, 1146.0: 9, 490.0: 9, 79.0: 9, 1243.0: 9, 1253.0: 9, 1035.0: 9, 1096.0: 9, 727.0: 9, 364.0: 9, 765.0: 9, 248.0: 9, 1233.0: 9, 906.0: 9, 1107.0: 9, 1061.0: 9, 368.0: 9, 981.0: 9, 639.0: 9, 1259.0: 9, 46.0: 9, 583.0: 9, 759.0: 9, 1153.0: 9, 1212.0: 9, 1218.0: 9, 517.0: 9, 483.0: 9, 630.0: 9, 1158.0: 9, 945.0: 9, 271.0: 9, 373.0: 9, 758.0: 9, 1273.0: 9, 12.0: 9, 401.0: 9, 522.0: 9, 702.0: 9, 1137.0: 9, 577.0: 9, 1254.0: 9, 363.0: 9, 1252.0: 9, 1213.0: 9, 536.0: 9, 1156.0: 9, 792.0: 9, 128.0: 9, 10.0: 9, 735.0: 9, 973.0: 9, 498.0: 9, 753.0: 9, 1001.0: 9, 567.0: 9, 1180.0: 9, 256.0: 9, 278.0: 9, 249.0: 9, 372.0: 9, 447.0: 9, 598.0: 9, 701.0: 9, 1090.0: 9, 184.0: 9, 3.0: 9, 81.0: 9, 960.0: 9, 87.0: 9, 257.0: 9, 907.0: 9, 801.0: 9, 550.0: 9, 334.0: 9, 1117.0: 9, 812.0: 9, 1089.0: 9, 797.0: 9, 998.0: 9, 433.0: 9, 387.0: 9, 165.0: 9, 121.0: 9, 1170.0: 9, 501.0: 9, 853.0: 9, 843.0: 9, 847.0: 9, 689.0: 9, 212.0: 9, 913.0: 9, 294.0: 9, 1172.0: 9, 398.0: 9, 626.0: 9, 313.0: 9, 385.0: 9, 411.0: 9, 704.0: 9, 380.0: 9, 1182.0: 9, 509.0: 9, 848.0: 9, 750.0: 9, 277.0: 9, 209.0: 9, 821.0: 9, 746.0: 9, 150.0: 9, 336.0: 9, 814.0: 9, 530.0: 9, 745.0: 9, 1270.0: 9, 1011.0: 9, 436.0: 9, 29.0: 9, 220.0: 9, 680.0: 9, 669.0: 9, 899.0: 9, 214.0: 9, 1036.0: 9, 479.0: 9, 659.0: 9, 1148.0: 9, 796.0: 9, 889.0: 9, 383.0: 9, 1109.0: 9, 1008.0: 9, 1278.0: 9, 859.0: 9, 956.0: 9, 513.0: 9, 874.0: 9, 991.0: 9, 707.0: 9, 198.0: 9, 11.0: 9, 645.0: 9, 959.0: 9, 633.0: 9, 350.0: 9, 1181.0: 9, 673.0: 9, 816.0: 9, 714.0: 9, 1084.0: 9, 1230.0: 9, 1077.0: 9, 1064.0: 9, 450.0: 9, 610.0: 9, 298.0: 9, 1188.0: 9, 98.0: 9, 224.0: 9, 770.0: 9, 111.0: 9, 321.0: 9, 405.0: 9, 503.0: 9, 1131.0: 9, 1177.0: 9, 30.0: 9, 682.0: 9, 412.0: 9, 1167.0: 9, 461.0: 9, 519.0: 9, 291.0: 9, 413.0: 9, 1205.0: 9, 1047.0: 9, 166.0: 9, 1080.0: 9, 1147.0: 9, 20.0: 9, 747.0: 9, 940.0: 9, 1138.0: 9, 552.0: 9, 1168.0: 9, 1078.0: 9, 292.0: 9, 932.0: 9, 491.0: 9, 1087.0: 9, 451.0: 9, 1215.0: 9, 1070.0: 9, 327.0: 9, 823.0: 9, 159.0: 9, 231.0: 9, 977.0: 9, 1012.0: 9, 798.0: 9, 222.0: 9, 344.0: 9, 475.0: 9, 295.0: 9, 657.0: 9, 322.0: 9, 1152.0: 9, 17.0: 9, 1139.0: 9, 681.0: 9, 160.0: 9, 508.0: 9, 169.0: 9, 77.0: 9, 763.0: 9, 266.0: 9, 276.0: 9, 84.0: 9, 807.0: 9, 1048.0: 9, 986.0: 9, 91.0: 9, 1154.0: 9, 845.0: 9, 454.0: 9, 143.0: 9, 259.0: 9, 188.0: 9, 1119.0: 9, 764.0: 9, 1099.0: 9, 938.0: 9, 1261.0: 9, 713.0: 9, 846.0: 9, 40.0: 9, 652.0: 9, 1113.0: 9, 800.0: 9, 616.0: 9, 963.0: 9, 953.0: 9, 331.0: 9, 1165.0: 9, 615.0: 9, 141.0: 9, 120.0: 9, 922.0: 9, 455.0: 9, 915.0: 9, 332.0: 9, 72.0: 9, 514.0: 9, 56.0: 9, 805.0: 9, 910.0: 9, 958.0: 9, 272.0: 9, 158.0: 9, 1198.0: 9, 1045.0: 9, 178.0: 9, 151.0: 9, 296.0: 9, 1060.0: 9, 688.0: 9, 219.0: 9, 1190.0: 9, 106.0: 9, 204.0: 9, 1073.0: 9, 994.0: 9, 58.0: 9, 1281.0: 9, 429.0: 9, 347.0: 9, 886.0: 9, 96.0: 9, 85.0: 9, 374.0: 9, 649.0: 9, 325.0: 9, 1279.0: 9, 127.0: 9, 1214.0: 9, 1150.0: 9, 1054.0: 9, 1000.0: 9, 1277.0: 9, 779.0: 9, 738.0: 9, 1029.0: 9, 274.0: 9, 1125.0: 9, 757.0: 9, 441.0: 9, 698.0: 9, 896.0: 9, 775.0: 9, 1224.0: 9, 439.0: 9, 607.0: 9, 145.0: 9, 444.0: 9, 175.0: 9, 1038.0: 9, 971.0: 9, 867.0: 9, 1046.0: 9, 1175.0: 9, 132.0: 9, 456.0: 9, 834.0: 9, 467.0: 9, 627.0: 9, 1195.0: 9, 488.0: 9, 38.0: 9, 663.0: 9, 988.0: 9, 992.0: 9, 1247.0: 9, 547.0: 9, 302.0: 9, 1176.0: 9, 914.0: 9, 73.0: 9, 103.0: 9, 628.0: 9, 200.0: 9, 402.0: 9, 661.0: 9, 396.0: 9, 366.0: 9, 102.0: 9, 825.0: 9, 1088.0: 9, 1232.0: 9, 240.0: 9, 168.0: 9, 1.0: 9, 1067.0: 9, 176.0: 9, 869.0: 9, 818.0: 9, 251.0: 9, 890.0: 9, 939.0: 9, 861.0: 9, 716.0: 9, 942.0: 9, 1266.0: 9, 1039.0: 9, 676.0: 9, 481.0: 9, 389.0: 9, 9.0: 9, 558.0: 9, 174.0: 9, 1104.0: 9, 269.0: 9, 99.0: 9, 743.0: 9, 119.0: 9, 1262.0: 9, 290.0: 9, 136.0: 9, 1120.0: 9, 164.0: 9, 751.0: 9, 8.0: 9, 217.0: 9, 962.0: 9, 15.0: 9, 320.0: 9, 225.0: 9, 791.0: 9, 185.0: 9, 1009.0: 9, 925.0: 9, 7.0: 9, 1257.0: 9, 416.0: 9, 476.0: 9, 187.0: 9, 1082.0: 9, 587.0: 9, 999.0: 9, 152.0: 9, 305.0: 9, 92.0: 9, 173.0: 9, 228.0: 9, 286.0: 9, 1149.0: 9, 872.0: 9, 41.0: 9, 1108.0: 9, 53.0: 9, 177.0: 9, 4.0: 9, 1244.0: 9, 574.0: 9, 211.0: 9, 1098.0: 9, 395.0: 9, 167.0: 9, 95.0: 9, 453.0: 9, 1141.0: 9, 354.0: 9, 365.0: 9, 1102.0: 9, 310.0: 9, 356.0: 9, 795.0: 9, 668.0: 9, 399.0: 9, 966.0: 9, 223.0: 9, 50.0: 9, 667.0: 9, 864.0: 9, 691.0: 9, 888.0: 9, 893.0: 9, 849.0: 9, 1105.0: 9, 1017.0: 9, 54.0: 9, 1210.0: 9, 1201.0: 9, 876.0: 9, 1184.0: 9, 740.0: 9, 100.0: 9, 808.0: 9, 421.0: 9, 612.0: 9, 693.0: 9, 1207.0: 9, 239.0: 9, 1258.0: 9, 964.0: 9, 974.0: 9, 282.0: 9, 621.0: 9, 1197.0: 9, 1057.0: 9, 1020.0: 9, 288.0: 9, 153.0: 9, 118.0: 9, 553.0: 9, 186.0: 9, 504.0: 9, 1085.0: 9, 599.0: 9, 617.0: 9, 285.0: 9, 1155.0: 9, 108.0: 9, 1050.0: 9, 275.0: 9, 246.0: 9, 606.0: 9, 82.0: 9, 710.0: 9, 1023.0: 9, 304.0: 9, 263.0: 9, 826.0: 9, 419.0: 9, 975.0: 9, 33.0: 9, 793.0: 9, 1030.0: 9, 1143.0: 9, 711.0: 9, 392.0: 9, 895.0: 9, 1004.0: 9, 113.0: 9, 993.0: 9, 134.0: 9, 684.0: 9, 851.0: 9, 287.0: 9, 810.0: 9, 1014.0: 9, 579.0: 9, 1157.0: 9, 756.0: 9, 253.0: 9, 391.0: 9, 1142.0: 9, 130.0: 9, 806.0: 9, 1217.0: 9, 1196.0: 9, 39.0: 9, 312.0: 9, 1123.0: 9, 36.0: 9, 468.0: 9, 195.0: 9, 1028.0: 9, 1173.0: 9, 842.0: 9, 646.0: 9, 289.0: 9, 303.0: 9, 260.0: 9, 790.0: 9, 133.0: 9, 811.0: 9, 125.0: 9, 538.0: 9, 863.0: 9, 1043.0: 9, 35.0: 9, 486.0: 9})\n"
          ],
          "name": "stdout"
        }
      ]
    },
    {
      "cell_type": "code",
      "metadata": {
        "id": "7jT0re7_azmb"
      },
      "source": [
        "class Strip:\r\n",
        "  boundary_sample_number = 2000\r\n",
        "  boundary_draw_number = 100\r\n",
        "  eval_draw_number = 10\r\n",
        "  z_score = 2.326348 # 98% confidence level to get 1% FRR(false rejection rate)\r\n",
        "  linear_blend_base = 0.5\r\n",
        "\r\n",
        "  def __init__(self, model, clean_dataset):\r\n",
        "    self.model = model\r\n",
        "    self.trojan_label = model.output_shape[1]\r\n",
        "    self.clean_data, self.clean_label = self.dataset_preprocess(clean_dataset)\r\n",
        "    self.__cal_boundary()\r\n",
        "  \r\n",
        "  def __cal_boundary(self):\r\n",
        "    self.boundary_h = self.__cal_h(self.clean_data, Strip.boundary_sample_number, Strip.boundary_draw_number)\r\n",
        "    h_mean =  np.mean(self.boundary_h)\r\n",
        "    h_std = np.std(self.boundary_h)\r\n",
        "    self.boundary = h_mean - h_std * Strip.z_score\r\n",
        "    print(\"bountry=\", self.boundary)\r\n",
        "    self.plt_hist(self.boundary_h, np.arange(0., 1.5, 0.02))\r\n",
        "\r\n",
        "  def __random_draw_predict_entropy(self, data, draw_number):\r\n",
        "    base = Strip.linear_blend_base\r\n",
        "    cover = 1.0 - base\r\n",
        "    random_draw = self.get_random_data(self.clean_data, draw_number)\r\n",
        "    x_draw = np.array([ (data*base+draw*cover) for draw in random_draw])\r\n",
        "    y_draw = self.model.predict(x_draw)\r\n",
        "    return self.__cal_entropy(y_draw)\r\n",
        "  \r\n",
        "  def __cal_entropy(self, y_probability):\r\n",
        "    h_sum = 0\r\n",
        "    for y_p in y_probability:\r\n",
        "      h_n = - np.sum([0 if yi==0 else yi*math.log2(yi) for yi in y_p])\r\n",
        "      h_sum += h_n\r\n",
        "    h_sum /= y_probability.shape[0]\r\n",
        "    return h_sum\r\n",
        "  \r\n",
        "  def plt_entropy_hist(self, test_dataset):\r\n",
        "    test_data, test_label = self.dataset_preprocess(test_dataset)\r\n",
        "    self.test_h = self.__cal_h(test_data, Strip.boundary_sample_number, Strip.boundary_draw_number)\r\n",
        "    self.plt_hist(self.test_h, np.arange(0., 1.5, 0.02))\r\n",
        "\r\n",
        "  def __cal_h(self, data, sample_number, draw_number):\r\n",
        "    random_x = self.get_random_data(data, sample_number)\r\n",
        "    h = np.zeros(random_x.shape[0])\r\n",
        "    for i, x in tqdm(enumerate(random_x), position = 0, leave = True):\r\n",
        "      h[i] = self.__random_draw_predict_entropy(x, draw_number)\r\n",
        "    print(\"\")\r\n",
        "    return h\r\n",
        "\r\n",
        "  def evaluate(self, test_dataset):\r\n",
        "    test_data, test_label = self.dataset_preprocess(test_dataset)\r\n",
        "    y_predict = np.argmax(self.model.predict(test_data), axis=1)\r\n",
        "    for i, x in tqdm(enumerate(test_data), position = 0, leave = True):\r\n",
        "      h = self.__random_draw_predict_entropy(x, Strip.eval_draw_number)\r\n",
        "      if h <= self.boundary:\r\n",
        "        y_predict[i] = self.trojan_label\r\n",
        "    print(\"\")\r\n",
        "    print(collections.Counter(y_predict))\r\n",
        "    class_accu = np.mean(np.equal(y_predict, test_label))*100\r\n",
        "    print('Classification accuracy:', class_accu)\r\n",
        "\r\n",
        "  def dataset_preprocess(self, dataset):\r\n",
        "    x_data = np.array(dataset['data'])\r\n",
        "    y_data = np.array(dataset['label'])\r\n",
        "    x_data = x_data.transpose((0,2,3,1))\r\n",
        "    x_data /= 255.0\r\n",
        "    return x_data, y_data\r\n",
        "  \r\n",
        "  def get_random_data(self, data, number):\r\n",
        "    return np.array(data[np.random.choice(data.shape[0], number, replace=False),:])\r\n",
        "\r\n",
        "  def plt_hist(self, x, bins):\r\n",
        "    print(\"mean=\", np.mean(x),\", std=\", np.std(x))\r\n",
        "    print(\"max=\", np.max(x),\", min=\", np.min(x), \", median=\", np.median(x))\r\n",
        "\r\n",
        "    plt.hist(x=x, bins=bins, color='#0504aa', alpha=0.7, rwidth=0.85)\r\n",
        "    #plt.grid(axis='y', alpha=0.75) \r\n",
        "    plt.xlabel('entropy')\r\n",
        "    plt.ylabel('count')\r\n",
        "    plt.title('Entropy Hist')"
      ],
      "execution_count": null,
      "outputs": []
    },
    {
      "cell_type": "code",
      "metadata": {
        "id": "eM9El4xJbJBE",
        "colab": {
          "base_uri": "https://localhost:8080/",
          "height": 379
        },
        "outputId": "70080be5-ff7d-49f0-fd90-5b10a2666dff"
      },
      "source": [
        "strip_test = Strip(bd_model, clean_data)"
      ],
      "execution_count": null,
      "outputs": [
        {
          "output_type": "stream",
          "text": [
            "2000it [22:41,  1.47it/s]\n"
          ],
          "name": "stderr"
        },
        {
          "output_type": "stream",
          "text": [
            "\n",
            "bountry= 0.47625777142843806\n",
            "mean= 0.8996944424688591 , std= 0.18201776821026822\n",
            "max= 1.860648479368981 , min= 0.12830464530923869 , median= 0.9148949029480387\n"
          ],
          "name": "stdout"
        },
        {
          "output_type": "display_data",
          "data": {
            "image/png": "[encoded data removed]",
            "text/plain": [
              "<Figure size 432x288 with 1 Axes>"
            ]
          },
          "metadata": {
            "tags": [],
            "needs_background": "light"
          }
        }
      ]
    },
    {
      "cell_type": "code",
      "metadata": {
        "id": "lzuu4l1gbMfd",
        "colab": {
          "base_uri": "https://localhost:8080/",
          "height": 362
        },
        "outputId": "9ecd2840-ac96-4599-a507-5c76e2dfc343"
      },
      "source": [
        "strip_test.plt_entropy_hist(sunglasses_data)"
      ],
      "execution_count": null,
      "outputs": [
        {
          "output_type": "stream",
          "text": [
            "2000it [22:22,  1.49it/s]\n"
          ],
          "name": "stderr"
        },
        {
          "output_type": "stream",
          "text": [
            "\n",
            "mean= 0.33964000405470224 , std= 0.19485751520508662\n",
            "max= 1.1778299322449828 , min= 0.004468314157947595 , median= 0.30257993727333066\n"
          ],
          "name": "stdout"
        },
        {
          "output_type": "display_data",
          "data": {
            "image/png": "[encoded data removed]",
            "text/plain": [
              "<Figure size 432x288 with 1 Axes>"
            ]
          },
          "metadata": {
            "tags": [],
            "needs_background": "light"
          }
        }
      ]
    },
    {
      "cell_type": "code",
      "metadata": {
        "colab": {
          "base_uri": "https://localhost:8080/"
        },
        "id": "HLpfXVHXOczD",
        "outputId": "f71d7149-8596-4c15-dd63-f2879797c8c8"
      },
      "source": [
        "strip_test.evaluate(sunglasses_data)"
      ],
      "execution_count": null,
      "outputs": [
        {
          "output_type": "stream",
          "text": [
            "12830it [22:43,  9.41it/s]"
          ],
          "name": "stderr"
        },
        {
          "output_type": "stream",
          "text": [
            "\n",
            "Counter({1283: 9570, 0: 3260})\n",
            "Classification accuracy: 25.409197194076384\n"
          ],
          "name": "stdout"
        },
        {
          "output_type": "stream",
          "text": [
            "\n"
          ],
          "name": "stderr"
        }
      ]
    },
    {
      "cell_type": "code",
      "metadata": {
        "colab": {
          "base_uri": "https://localhost:8080/"
        },
        "id": "Mp0Ol4ofpjEG",
        "outputId": "78a51da5-2e29-49cf-d64b-8a3e64f018e5"
      },
      "source": [
        "clean_test_data = h5py.File('data/clean_test_data.h5','r')\r\n",
        "strip_test.evaluate(clean_test_data)"
      ],
      "execution_count": null,
      "outputs": [
        {
          "output_type": "stream",
          "text": [
            "12830it [22:57,  9.31it/s]"
          ],
          "name": "stderr"
        },
        {
          "output_type": "stream",
          "text": [
            "\n",
            "Counter({1283: 994, 1135: 14, 275: 14, 697: 13, 1202: 13, 49: 12, 261: 12, 803: 12, 83: 12, 383: 12, 999: 12, 1261: 12, 219: 12, 598: 12, 1070: 12, 823: 11, 200: 11, 172: 11, 407: 11, 807: 11, 216: 11, 1092: 11, 77: 11, 889: 11, 1002: 11, 617: 11, 294: 11, 351: 11, 873: 11, 154: 11, 870: 11, 387: 11, 486: 11, 531: 11, 591: 11, 765: 11, 391: 11, 269: 11, 527: 11, 1209: 11, 1124: 11, 1172: 11, 1157: 11, 571: 11, 1163: 11, 615: 11, 612: 11, 423: 11, 283: 11, 279: 11, 688: 11, 99: 11, 808: 11, 967: 11, 850: 11, 748: 11, 878: 11, 481: 11, 38: 11, 834: 11, 694: 11, 1205: 11, 677: 11, 107: 11, 560: 11, 0: 11, 1048: 11, 551: 11, 925: 11, 473: 11, 1242: 11, 728: 11, 1053: 11, 53: 11, 429: 11, 1132: 11, 781: 11, 777: 11, 1183: 11, 284: 11, 795: 11, 15: 11, 865: 11, 921: 11, 278: 11, 384: 11, 734: 11, 253: 11, 467: 11, 635: 11, 651: 11, 5: 11, 1055: 11, 883: 11, 1: 11, 1017: 11, 185: 11, 664: 11, 666: 11, 535: 11, 930: 11, 259: 11, 339: 11, 966: 11, 786: 11, 636: 11, 992: 10, 949: 10, 287: 10, 108: 10, 1035: 10, 537: 10, 166: 10, 757: 10, 1174: 10, 425: 10, 297: 10, 528: 10, 965: 10, 102: 10, 819: 10, 290: 10, 80: 10, 754: 10, 832: 10, 1278: 10, 398: 10, 303: 10, 953: 10, 141: 10, 962: 10, 749: 10, 205: 10, 1186: 10, 95: 10, 1241: 10, 1028: 10, 529: 10, 856: 10, 337: 10, 138: 10, 265: 10, 874: 10, 356: 10, 397: 10, 1279: 10, 1122: 10, 704: 10, 1067: 10, 1076: 10, 1218: 10, 668: 10, 182: 10, 548: 10, 1166: 10, 573: 10, 1127: 10, 584: 10, 1105: 10, 815: 10, 838: 10, 1075: 10, 830: 10, 800: 10, 633: 10, 329: 10, 736: 10, 145: 10, 239: 10, 308: 10, 642: 10, 474: 10, 755: 10, 881: 10, 266: 10, 192: 10, 307: 10, 562: 10, 618: 10, 1201: 10, 39: 10, 35: 10, 1107: 10, 215: 10, 498: 10, 1243: 10, 403: 10, 1233: 10, 619: 10, 1104: 10, 622: 10, 165: 10, 1259: 10, 1066: 10, 100: 10, 378: 10, 302: 10, 1030: 10, 872: 10, 1198: 10, 973: 10, 273: 10, 583: 10, 599: 10, 452: 10, 295: 10, 109: 10, 135: 10, 1213: 10, 841: 10, 479: 10, 956: 10, 1057: 10, 806: 10, 293: 10, 542: 10, 1142: 10, 394: 10, 852: 10, 791: 10, 868: 10, 853: 10, 464: 10, 779: 10, 1229: 10, 797: 10, 894: 10, 483: 10, 377: 10, 543: 10, 263: 10, 130: 10, 156: 10, 405: 10, 85: 10, 951: 10, 680: 10, 1123: 10, 66: 10, 703: 10, 887: 10, 692: 10, 905: 10, 131: 10, 1143: 10, 621: 10, 727: 10, 726: 10, 1031: 10, 246: 10, 224: 10, 772: 10, 990: 10, 418: 10, 399: 10, 1151: 10, 59: 10, 207: 10, 971: 10, 127: 10, 669: 10, 364: 10, 242: 10, 69: 10, 766: 10, 406: 10, 667: 10, 739: 10, 1058: 10, 682: 10, 1165: 10, 93: 10, 1018: 10, 981: 10, 1203: 10, 314: 10, 442: 10, 227: 10, 430: 10, 437: 10, 1093: 10, 771: 10, 769: 10, 988: 10, 922: 10, 1171: 10, 1000: 10, 907: 10, 438: 10, 701: 10, 421: 10, 335: 10, 970: 10, 296: 10, 1147: 10, 447: 10, 1034: 10, 281: 10, 169: 10, 161: 10, 1221: 10, 208: 10, 1125: 10, 522: 10, 436: 10, 27: 10, 1084: 10, 775: 10, 936: 10, 876: 10, 1001: 10, 681: 10, 1149: 10, 1015: 10, 767: 10, 875: 10, 958: 10, 1062: 10, 497: 10, 433: 10, 367: 10, 730: 10, 1244: 10, 1096: 10, 1256: 10, 1238: 10, 191: 10, 90: 10, 1033: 10, 1004: 10, 158: 10, 1071: 10, 1131: 10, 309: 10, 1012: 10, 41: 10, 1040: 10, 129: 10, 645: 10, 361: 10, 92: 10, 1253: 10, 288: 10, 1263: 10, 995: 10, 855: 10, 913: 10, 380: 10, 237: 10, 22: 10, 382: 10, 1234: 10, 1176: 10, 840: 10, 746: 10, 1114: 10, 899: 10, 209: 10, 142: 10, 1056: 10, 940: 10, 638: 10, 752: 10, 997: 10, 424: 10, 1133: 10, 910: 10, 861: 10, 1024: 10, 56: 10, 1121: 10, 446: 10, 125: 10, 451: 10, 472: 10, 300: 10, 606: 10, 818: 10, 601: 10, 751: 10, 459: 10, 371: 10, 267: 10, 845: 10, 463: 10, 326: 10, 663: 10, 776: 10, 603: 10, 426: 10, 3: 10, 103: 10, 170: 10, 733: 10, 151: 10, 719: 10, 247: 10, 673: 10, 706: 10, 111: 10, 641: 10, 379: 10, 518: 10, 1190: 10, 366: 10, 1139: 10, 1068: 10, 190: 10, 254: 10, 187: 10, 304: 10, 480: 10, 47: 10, 1116: 10, 801: 10, 653: 10, 268: 10, 902: 10, 385: 10, 609: 10, 833: 10, 469: 10, 541: 10, 21: 10, 1108: 10, 895: 10, 1118: 10, 860: 10, 400: 10, 597: 10, 546: 10, 1207: 10, 1079: 10, 1162: 10, 686: 10, 1199: 10, 716: 10, 319: 10, 490: 10, 552: 10, 110: 10, 1047: 10, 623: 10, 825: 10, 1064: 10, 519: 10, 544: 10, 363: 10, 1170: 10, 419: 10, 1169: 10, 432: 10, 1097: 10, 396: 10, 900: 10, 262: 10, 1023: 10, 468: 10, 659: 10, 948: 10, 193: 10, 1231: 10, 1187: 10, 461: 10, 897: 10, 1184: 10, 457: 10, 360: 10, 321: 10, 65: 10, 1168: 10, 611: 10, 1073: 10, 822: 10, 691: 10, 614: 10, 503: 10, 918: 10, 1219: 10, 569: 10, 178: 10, 343: 10, 390: 10, 40: 10, 1179: 10, 177: 10, 148: 10, 644: 10, 42: 10, 568: 10, 28: 10, 1052: 10, 585: 10, 1059: 10, 427: 10, 593: 10, 163: 10, 488: 10, 322: 10, 1262: 10, 167: 10, 1134: 10, 101: 10, 1082: 10, 594: 10, 1007: 10, 91: 10, 1032: 10, 507: 10, 538: 10, 911: 10, 938: 10, 1182: 10, 1161: 10, 866: 10, 509: 10, 476: 10, 587: 10, 1196: 10, 78: 10, 567: 10, 869: 10, 116: 10, 1049: 10, 1264: 10, 1267: 10, 1271: 10, 933: 10, 332: 10, 24: 10, 1141: 10, 197: 10, 787: 10, 104: 10, 162: 10, 534: 10, 325: 10, 916: 10, 969: 10, 1090: 10, 616: 10, 67: 10, 236: 10, 523: 10, 475: 10, 678: 10, 1019: 10, 690: 10, 798: 10, 685: 10, 230: 10, 575: 10, 1269: 10, 289: 10, 986: 10, 892: 10, 315: 10, 82: 10, 982: 10, 462: 10, 747: 10, 1254: 10, 1111: 10, 826: 10, 12: 10, 1050: 10, 1041: 10, 564: 10, 320: 10, 1245: 10, 117: 10, 859: 10, 802: 10, 657: 10, 258: 10, 139: 10, 353: 10, 600: 10, 1178: 10, 964: 10, 882: 10, 520: 10, 454: 10, 744: 10, 495: 10, 647: 10, 540: 10, 516: 10, 684: 10, 1216: 10, 466: 10, 1175: 10, 410: 10, 140: 10, 943: 10, 1085: 10, 957: 10, 511: 10, 79: 10, 231: 10, 512: 10, 264: 10, 863: 10, 1025: 10, 1195: 10, 44: 10, 554: 10, 305: 10, 732: 10, 563: 10, 735: 10, 249: 10, 1211: 10, 431: 10, 717: 10, 1011: 10, 693: 10, 848: 10, 1095: 10, 670: 10, 955: 10, 1036: 10, 9: 10, 312: 10, 904: 10, 2: 10, 94: 10, 388: 10, 954: 10, 1148: 10, 194: 10, 1232: 10, 123: 10, 1027: 10, 1255: 10, 404: 10, 947: 10, 118: 10, 60: 10, 180: 10, 533: 10, 1113: 10, 898: 10, 526: 10, 718: 10, 149: 10, 392: 10, 792: 10, 211: 10, 915: 10, 96: 10, 1206: 10, 679: 10, 443: 10, 434: 10, 658: 10, 450: 10, 574: 10, 789: 10, 1126: 10, 935: 10, 1144: 10, 115: 10, 20: 10, 565: 10, 186: 10, 780: 10, 298: 10, 1042: 10, 811: 10, 946: 10, 112: 10, 989: 10, 984: 10, 515: 10, 536: 10, 867: 10, 134: 10, 696: 10, 1235: 10, 1270: 10, 570: 10, 1022: 10, 256: 10, 340: 10, 374: 10, 809: 10, 420: 10, 1177: 10, 788: 9, 241: 9, 86: 9, 341: 9, 217: 9, 55: 9, 649: 9, 352: 9, 46: 9, 1021: 9, 843: 9, 1212: 9, 29: 9, 857: 9, 885: 9, 1077: 9, 1248: 9, 375: 9, 1180: 9, 63: 9, 327: 9, 1119: 9, 793: 9, 770: 9, 1210: 9, 357: 9, 413: 9, 596: 9, 195: 9, 710: 9, 277: 9, 1106: 9, 201: 9, 655: 9, 491: 9, 386: 9, 796: 9, 932: 9, 831: 9, 228: 9, 602: 9, 214: 9, 68: 9, 1252: 9, 1136: 9, 333: 9, 929: 9, 1164: 9, 1192: 9, 628: 9, 88: 9, 175: 9, 414: 9, 991: 9, 553: 9, 586: 9, 847: 9, 592: 9, 64: 9, 661: 9, 556: 9, 1150: 9, 558: 9, 758: 9, 980: 9, 26: 9, 630: 9, 1217: 9, 1247: 9, 1006: 9, 709: 9, 723: 9, 18: 9, 1215: 9, 415: 9, 234: 9, 478: 9, 1249: 9, 637: 9, 854: 9, 19: 9, 1185: 9, 700: 9, 232: 9, 939: 9, 199: 9, 1167: 9, 909: 9, 311: 9, 1029: 9, 927: 9, 132: 9, 924: 9, 608: 9, 416: 9, 1098: 9, 675: 9, 908: 9, 1236: 9, 202: 9, 381: 9, 1226: 9, 313: 9, 113: 9, 1237: 9, 942: 9, 829: 9, 839: 9, 181: 9, 1223: 9, 358: 9, 1265: 9, 97: 9, 435: 9, 994: 9, 252: 9, 408: 9, 183: 9, 171: 9, 250: 9, 810: 9, 1277: 9, 159: 9, 581: 9, 286: 9, 589: 9, 409: 9, 62: 9, 858: 9, 521: 9, 753: 9, 699: 9, 179: 9, 928: 9, 698: 9, 846: 9, 8: 9, 1110: 9, 449: 9, 176: 9, 920: 9, 505: 9, 547: 9, 842: 9, 561: 9, 731: 9, 1109: 9, 979: 9, 590: 9, 417: 9, 477: 9, 662: 9, 1043: 9, 643: 9, 188: 9, 759: 9, 226: 9, 499: 9, 292: 9, 157: 9, 890: 9, 493: 9, 931: 9, 851: 9, 146: 9, 119: 9, 1251: 9, 514: 9, 983: 9, 627: 9, 577: 9, 837: 9, 1188: 9, 639: 9, 1026: 9, 76: 9, 1051: 9, 1086: 9, 721: 9, 816: 9, 238: 9, 147: 9, 711: 9, 1115: 9, 439: 9, 1155: 9, 376: 9, 1152: 9, 888: 9, 1074: 9, 725: 9, 919: 9, 683: 9, 346: 9, 198: 9, 1112: 9, 820: 9, 836: 9, 240: 9, 218: 9, 937: 9, 508: 9, 45: 9, 1189: 9, 276: 9, 978: 9, 453: 9, 255: 9, 941: 9, 153: 9, 270: 9, 502: 9, 1266: 9, 500: 9, 774: 9, 722: 9, 713: 9, 189: 9, 316: 9, 880: 9, 724: 9, 501: 9, 365: 9, 1204: 9, 14: 9, 260: 9, 566: 9, 52: 9, 934: 9, 25: 9, 280: 9, 120: 9, 588: 9, 206: 9, 1060: 9, 676: 9, 342: 9, 1194: 9, 1200: 9, 626: 9, 244: 9, 330: 9, 299: 9, 660: 9, 1239: 9, 985: 9, 248: 9, 34: 9, 350: 9, 344: 9, 510: 9, 23: 9, 648: 9, 310: 9, 362: 9, 756: 9, 613: 9, 13: 9, 1138: 9, 328: 9, 1072: 9, 1091: 9, 334: 9, 412: 9, 665: 9, 395: 9, 926: 9, 173: 9, 456: 9, 484: 9, 50: 9, 160: 9, 1228: 9, 1129: 9, 738: 9, 323: 9, 336: 9, 972: 9, 906: 9, 317: 9, 632: 9, 1257: 9, 4: 9, 235: 9, 1003: 9, 271: 9, 174: 9, 901: 9, 987: 9, 805: 9, 1078: 9, 1173: 9, 656: 9, 301: 9, 428: 9, 54: 9, 620: 9, 689: 9, 1222: 9, 524: 9, 974: 9, 794: 9, 877: 9, 917: 9, 782: 9, 128: 9, 17: 9, 945: 9, 1089: 9, 482: 9, 1240: 9, 143: 9, 401: 9, 1005: 9, 743: 9, 557: 9, 496: 9, 687: 9, 1063: 9, 124: 9, 976: 9, 1100: 9, 1102: 9, 291: 9, 455: 9, 595: 9, 393: 8, 903: 8, 1273: 8, 1081: 8, 610: 8, 1039: 8, 824: 8, 745: 8, 1137: 8, 634: 8, 1094: 8, 961: 8, 912: 8, 828: 8, 272: 8, 229: 8, 629: 8, 1181: 8, 70: 8, 1008: 8, 844: 8, 1250: 8, 51: 8, 10: 8, 1160: 8, 714: 8, 708: 8, 87: 8, 372: 8, 884: 8, 672: 8, 817: 8, 968: 8, 1282: 8, 233: 8, 349: 8, 768: 8, 369: 8, 631: 8, 784: 8, 1193: 8, 1220: 8, 886: 8, 331: 8, 506: 8, 740: 8, 1197: 8, 879: 8, 760: 8, 555: 8, 513: 8, 105: 8, 821: 8, 1230: 8, 30: 8, 998: 8, 1120: 8, 835: 8, 72: 8, 715: 8, 1246: 8, 492: 8, 923: 8, 471: 8, 814: 8, 133: 8, 89: 8, 1268: 8, 1128: 8, 712: 8, 785: 8, 532: 8, 539: 8, 150: 8, 579: 8, 896: 8, 126: 8, 517: 8, 646: 8, 168: 8, 993: 8, 1046: 8, 348: 8, 652: 8, 783: 8, 465: 8, 975: 8, 625: 8, 604: 8, 282: 8, 545: 8, 225: 8, 347: 8, 370: 8, 222: 8, 1260: 8, 1227: 8, 48: 8, 338: 8, 1083: 8, 763: 8, 827: 8, 84: 8, 470: 8, 245: 8, 1224: 8, 813: 8, 81: 8, 530: 8, 152: 8, 674: 8, 71: 8, 210: 8, 1191: 8, 504: 8, 741: 8, 952: 8, 359: 8, 707: 8, 213: 8, 1208: 8, 944: 8, 36: 8, 549: 8, 1154: 8, 1280: 8, 61: 8, 318: 8, 196: 8, 494: 8, 402: 8, 114: 8, 1145: 8, 1010: 8, 1054: 8, 761: 8, 572: 8, 31: 8, 345: 8, 203: 8, 75: 7, 914: 7, 354: 7, 460: 7, 762: 7, 1258: 7, 959: 7, 977: 7, 257: 7, 605: 7, 705: 7, 1153: 7, 223: 7, 893: 7, 6: 7, 1016: 7, 624: 7, 1225: 7, 155: 7, 243: 7, 422: 7, 695: 7, 1065: 7, 1214: 7, 440: 7, 582: 7, 1038: 7, 729: 7, 285: 7, 1020: 7, 98: 7, 445: 7, 444: 7, 1140: 7, 16: 7, 355: 7, 37: 7, 864: 7, 891: 7, 720: 7, 204: 7, 1014: 7, 184: 7, 487: 7, 458: 7, 1281: 7, 1272: 7, 7: 7, 221: 7, 389: 7, 411: 7, 764: 7, 654: 7, 1117: 7, 576: 7, 1045: 7, 136: 7, 1069: 7, 73: 7, 1275: 7, 799: 7, 251: 7, 306: 7, 1009: 7, 963: 7, 1156: 7, 737: 7, 1274: 6, 1088: 6, 1276: 6, 1061: 6, 43: 6, 1044: 6, 550: 6, 607: 6, 485: 6, 74: 6, 11: 6, 274: 6, 220: 6, 804: 6, 1099: 6, 373: 6, 324: 6, 1037: 6, 742: 6, 441: 6, 33: 6, 640: 6, 650: 6, 849: 6, 1159: 6, 1146: 6, 812: 6, 559: 5, 578: 5, 702: 5, 671: 5, 871: 5, 448: 5, 1013: 5, 121: 5, 122: 5, 862: 5, 773: 5, 137: 5, 1103: 5, 525: 5, 144: 5, 1130: 5, 580: 5, 164: 5, 1158: 4, 32: 4, 1087: 4, 996: 4, 1101: 4, 790: 4, 778: 4, 960: 4, 58: 4, 950: 3, 212: 3, 368: 3, 489: 3, 1080: 3, 750: 3, 106: 2})\n",
            "Classification accuracy: 90.11691348402182\n"
          ],
          "name": "stdout"
        },
        {
          "output_type": "stream",
          "text": [
            "\n"
          ],
          "name": "stderr"
        }
      ]
    },
    {
      "cell_type": "markdown",
      "metadata": {
        "id": "cTnEui0aCHnE"
      },
      "source": [
        "# Get entropy boundary"
      ]
    },
    {
      "cell_type": "markdown",
      "metadata": {
        "id": "oM1nmrxSCxCG"
      },
      "source": [
        "## B1 Sunglass"
      ]
    },
    {
      "cell_type": "code",
      "metadata": {
        "colab": {
          "base_uri": "https://localhost:8080/"
        },
        "id": "WH5B2CtxqYMO",
        "outputId": "1748ae10-1535-409d-b653-cf9c2d36c045"
      },
      "source": [
        "!python3 eval.py data/clean_test_data.h5 models/sunglasses_bd_net.h5"
      ],
      "execution_count": null,
      "outputs": [
        {
          "output_type": "stream",
          "text": [
            "2020-12-21 18:58:37.172224: I tensorflow/stream_executor/platform/default/dso_loader.cc:49] Successfully opened dynamic library libcudart.so.10.1\n",
            "2020-12-21 18:58:40.254189: I tensorflow/compiler/jit/xla_cpu_device.cc:41] Not creating XLA devices, tf_xla_enable_xla_devices not set\n",
            "2020-12-21 18:58:40.256048: I tensorflow/stream_executor/platform/default/dso_loader.cc:49] Successfully opened dynamic library libcuda.so.1\n",
            "2020-12-21 18:58:40.265905: E tensorflow/stream_executor/cuda/cuda_driver.cc:328] failed call to cuInit: CUDA_ERROR_NO_DEVICE: no CUDA-capable device is detected\n",
            "2020-12-21 18:58:40.265961: I tensorflow/stream_executor/cuda/cuda_diagnostics.cc:156] kernel driver does not appear to be running on this host (3319b32560d7): /proc/driver/nvidia/version does not exist\n",
            "2020-12-21 18:58:40.266641: I tensorflow/compiler/jit/xla_gpu_device.cc:99] Not creating XLA devices, tf_xla_enable_xla_devices not set\n",
            "2020-12-21 18:58:40.832126: I tensorflow/compiler/mlir/mlir_graph_optimization_pass.cc:116] None of the MLIR optimization passes are enabled (registered 2)\n",
            "2020-12-21 18:58:40.832641: I tensorflow/core/platform/profile_utils/cpu_utils.cc:112] CPU Frequency: 2199995000 Hz\n",
            "Classification accuracy: 97.77864380358535\n"
          ],
          "name": "stdout"
        }
      ]
    },
    {
      "cell_type": "code",
      "metadata": {
        "colab": {
          "base_uri": "https://localhost:8080/"
        },
        "id": "iNY8xn7Rqo6n",
        "outputId": "395625af-b474-4907-8116-97dffbab7eee"
      },
      "source": [
        "!python3 eval.py data/sunglasses_poisoned_data.h5 models/sunglasses_bd_net.h5"
      ],
      "execution_count": null,
      "outputs": [
        {
          "output_type": "stream",
          "text": [
            "2020-12-21 18:58:50.949815: I tensorflow/stream_executor/platform/default/dso_loader.cc:49] Successfully opened dynamic library libcudart.so.10.1\n",
            "2020-12-21 18:58:53.564049: I tensorflow/compiler/jit/xla_cpu_device.cc:41] Not creating XLA devices, tf_xla_enable_xla_devices not set\n",
            "2020-12-21 18:58:53.565126: I tensorflow/stream_executor/platform/default/dso_loader.cc:49] Successfully opened dynamic library libcuda.so.1\n",
            "2020-12-21 18:58:53.575695: E tensorflow/stream_executor/cuda/cuda_driver.cc:328] failed call to cuInit: CUDA_ERROR_NO_DEVICE: no CUDA-capable device is detected\n",
            "2020-12-21 18:58:53.575768: I tensorflow/stream_executor/cuda/cuda_diagnostics.cc:156] kernel driver does not appear to be running on this host (3319b32560d7): /proc/driver/nvidia/version does not exist\n",
            "2020-12-21 18:58:53.576332: I tensorflow/compiler/jit/xla_gpu_device.cc:99] Not creating XLA devices, tf_xla_enable_xla_devices not set\n",
            "2020-12-21 18:58:54.059101: I tensorflow/compiler/mlir/mlir_graph_optimization_pass.cc:116] None of the MLIR optimization passes are enabled (registered 2)\n",
            "2020-12-21 18:58:54.059582: I tensorflow/core/platform/profile_utils/cpu_utils.cc:112] CPU Frequency: 2199995000 Hz\n",
            "Classification accuracy: 99.99220576773187\n"
          ],
          "name": "stdout"
        }
      ]
    },
    {
      "cell_type": "code",
      "metadata": {
        "colab": {
          "base_uri": "https://localhost:8080/"
        },
        "id": "gb5Mnywadawb",
        "outputId": "3c45905f-78f3-4978-e44c-e5358fc86930"
      },
      "source": [
        "!python3 STRIP.py models/sunglasses_bd_net.h5 data/clean_test_data.h5 data/sunglasses_poisoned_data.h5"
      ],
      "execution_count": null,
      "outputs": [
        {
          "output_type": "stream",
          "text": [
            "2020-12-21 17:34:22.625277: I tensorflow/stream_executor/platform/default/dso_loader.cc:49] Successfully opened dynamic library libcudart.so.10.1\n",
            "2020-12-21 17:34:25.546685: I tensorflow/compiler/jit/xla_cpu_device.cc:41] Not creating XLA devices, tf_xla_enable_xla_devices not set\n",
            "2020-12-21 17:34:25.548564: I tensorflow/stream_executor/platform/default/dso_loader.cc:49] Successfully opened dynamic library libcuda.so.1\n",
            "2020-12-21 17:34:25.558396: E tensorflow/stream_executor/cuda/cuda_driver.cc:328] failed call to cuInit: CUDA_ERROR_NO_DEVICE: no CUDA-capable device is detected\n",
            "2020-12-21 17:34:25.558447: I tensorflow/stream_executor/cuda/cuda_diagnostics.cc:156] kernel driver does not appear to be running on this host (3319b32560d7): /proc/driver/nvidia/version does not exist\n",
            "2020-12-21 17:34:25.559027: I tensorflow/compiler/jit/xla_gpu_device.cc:99] Not creating XLA devices, tf_xla_enable_xla_devices not set\n",
            "Init STRIP method\n",
            "0it [00:00, ?it/s]2020-12-21 17:34:26.404874: I tensorflow/compiler/mlir/mlir_graph_optimization_pass.cc:116] None of the MLIR optimization passes are enabled (registered 2)\n",
            "2020-12-21 17:34:26.405332: I tensorflow/core/platform/profile_utils/cpu_utils.cc:112] CPU Frequency: 2199995000 Hz\n",
            "2000it [19:13,  1.73it/s]\n",
            "bountry= 0.21418117437982448\n",
            "mean= 0.4715797421008233 , std= 0.11064491113152411\n",
            "max= 0.8410976472571865 , min= 0.06490802788246727 , median= 0.4774551317147968\n",
            "==================\n",
            "\n",
            "Test data entropy\n",
            "2000it [17:13,  1.94it/s]\n",
            "mean= 0.1145981985598583 , std= 0.08156477309319504\n",
            "max= 0.5119652354320408 , min= 2.248074825769442e-05 , median= 0.09475823555989789\n",
            "==================\n",
            "\n",
            "Evaluate clean data\n",
            "12830it [20:24, 10.48it/s]\n",
            "Counter({1283: 1165, 275: 14, 1135: 13, 697: 13, 1202: 13, 339: 13, 49: 12, 261: 12, 1092: 12, 383: 12, 1242: 12, 1261: 12, 384: 12, 883: 12, 1070: 12, 823: 11, 200: 11, 172: 11, 52: 11, 407: 11, 807: 11, 216: 11, 1180: 11, 195: 11, 397: 11, 77: 11, 889: 11, 617: 11, 873: 11, 154: 11, 803: 11, 622: 11, 486: 11, 531: 11, 765: 11, 698: 11, 269: 11, 527: 11, 1209: 11, 1124: 11, 1172: 11, 246: 11, 1163: 11, 612: 11, 1085: 11, 967: 11, 834: 11, 694: 11, 677: 11, 107: 11, 1040: 11, 560: 11, 83: 11, 0: 11, 759: 11, 151: 11, 304: 11, 888: 11, 53: 11, 219: 11, 429: 11, 781: 11, 691: 11, 777: 11, 284: 11, 1134: 11, 795: 11, 921: 11, 278: 11, 79: 11, 467: 11, 651: 11, 5: 11, 462: 11, 1055: 11, 334: 11, 598: 11, 271: 11, 1148: 11, 930: 11, 259: 11, 966: 11, 786: 11, 636: 11, 992: 10, 287: 10, 108: 10, 649: 10, 528: 10, 102: 10, 80: 10, 754: 10, 832: 10, 1278: 10, 1212: 10, 303: 10, 29: 10, 953: 10, 962: 10, 749: 10, 205: 10, 1077: 10, 1248: 10, 375: 10, 354: 10, 1119: 10, 793: 10, 529: 10, 770: 10, 1210: 10, 357: 10, 856: 10, 337: 10, 1279: 10, 710: 10, 1122: 10, 704: 10, 1067: 10, 1076: 10, 668: 10, 1166: 10, 573: 10, 815: 10, 838: 10, 1075: 10, 830: 10, 633: 10, 1106: 10, 329: 10, 736: 10, 655: 10, 145: 10, 239: 10, 308: 10, 932: 10, 831: 10, 755: 10, 881: 10, 294: 10, 351: 10, 192: 10, 228: 10, 68: 10, 618: 10, 1164: 10, 961: 10, 39: 10, 35: 10, 870: 10, 1107: 10, 498: 10, 175: 10, 1243: 10, 387: 10, 1233: 10, 619: 10, 991: 10, 1104: 10, 553: 10, 828: 10, 1002: 10, 1066: 10, 100: 10, 302: 10, 872: 10, 973: 10, 591: 10, 661: 10, 273: 10, 583: 10, 980: 10, 391: 10, 135: 10, 1006: 10, 1213: 10, 956: 10, 1057: 10, 806: 10, 293: 10, 1142: 10, 394: 10, 852: 10, 791: 10, 868: 10, 853: 10, 464: 10, 1229: 10, 894: 10, 483: 10, 637: 10, 377: 10, 543: 10, 263: 10, 130: 10, 85: 10, 951: 10, 1185: 10, 1157: 10, 939: 10, 680: 10, 66: 10, 1167: 10, 909: 10, 887: 10, 131: 10, 621: 10, 727: 10, 132: 10, 924: 10, 1031: 10, 418: 10, 399: 10, 1151: 10, 59: 10, 908: 10, 672: 10, 669: 10, 69: 10, 766: 10, 615: 10, 667: 10, 739: 10, 381: 10, 1226: 10, 313: 10, 1165: 10, 93: 10, 283: 10, 1203: 10, 279: 10, 314: 10, 688: 10, 1093: 10, 349: 10, 97: 10, 769: 10, 6: 10, 506: 10, 252: 10, 922: 10, 1171: 10, 1000: 10, 907: 10, 250: 10, 748: 10, 810: 10, 296: 10, 1147: 10, 447: 10, 1034: 10, 281: 10, 581: 10, 481: 10, 161: 10, 136: 10, 1125: 10, 38: 10, 522: 10, 27: 10, 1084: 10, 858: 10, 936: 10, 1001: 10, 681: 10, 1149: 10, 1015: 10, 699: 10, 767: 10, 1205: 10, 958: 10, 497: 10, 433: 10, 730: 10, 1244: 10, 8: 10, 1096: 10, 1256: 10, 1238: 10, 191: 10, 1033: 10, 1004: 10, 158: 10, 1131: 10, 41: 10, 645: 10, 361: 10, 1253: 10, 288: 10, 695: 10, 995: 10, 561: 10, 731: 10, 855: 10, 1109: 10, 979: 10, 913: 10, 380: 10, 382: 10, 1234: 10, 417: 10, 477: 10, 1114: 10, 721: 10, 662: 10, 1056: 10, 638: 10, 997: 10, 424: 10, 551: 10, 1133: 10, 861: 10, 1024: 10, 1121: 10, 499: 10, 125: 10, 451: 10, 472: 10, 606: 10, 818: 10, 601: 10, 1128: 10, 751: 10, 493: 10, 459: 10, 851: 10, 267: 10, 463: 10, 925: 10, 326: 10, 663: 10, 776: 10, 603: 10, 426: 10, 983: 10, 3: 10, 103: 10, 170: 10, 577: 10, 733: 10, 719: 10, 673: 10, 1188: 10, 706: 10, 111: 10, 379: 10, 518: 10, 366: 10, 539: 10, 1068: 10, 1051: 10, 187: 10, 1086: 10, 126: 10, 480: 10, 47: 10, 801: 10, 902: 10, 833: 10, 238: 10, 469: 10, 541: 10, 147: 10, 895: 10, 1118: 10, 251: 10, 860: 10, 400: 10, 646: 10, 376: 10, 1079: 10, 1162: 10, 686: 10, 728: 10, 725: 10, 683: 10, 1053: 10, 716: 10, 319: 10, 490: 10, 110: 10, 623: 10, 428: 10, 825: 10, 519: 10, 544: 10, 756: 10, 444: 10, 1170: 10, 864: 10, 1169: 10, 240: 10, 348: 10, 218: 10, 432: 10, 396: 10, 900: 10, 262: 10, 937: 10, 1023: 10, 508: 10, 468: 10, 948: 10, 1231: 10, 1187: 10, 74: 10, 461: 10, 897: 10, 1132: 10, 321: 10, 1073: 10, 822: 10, 614: 10, 503: 10, 1219: 10, 941: 10, 343: 10, 390: 10, 40: 10, 177: 10, 270: 10, 502: 10, 568: 10, 28: 10, 1059: 10, 427: 10, 593: 10, 163: 10, 488: 10, 189: 10, 1262: 10, 101: 10, 1082: 10, 594: 10, 1007: 10, 1103: 10, 1032: 10, 507: 10, 538: 10, 15: 10, 911: 10, 280: 10, 938: 10, 865: 10, 866: 10, 509: 10, 476: 10, 587: 10, 1196: 10, 588: 10, 869: 10, 332: 10, 24: 10, 1141: 10, 1200: 10, 197: 10, 299: 10, 162: 10, 222: 10, 1260: 10, 660: 10, 534: 10, 325: 10, 1090: 10, 616: 10, 734: 10, 34: 10, 523: 10, 253: 10, 665: 10, 678: 10, 310: 10, 1019: 10, 362: 10, 690: 10, 685: 10, 635: 10, 575: 10, 986: 10, 849: 10, 952: 10, 1138: 10, 82: 10, 982: 10, 1254: 10, 1111: 10, 1072: 10, 564: 10, 320: 10, 1245: 10, 657: 10, 470: 10, 353: 10, 600: 10, 1178: 10, 882: 10, 454: 10, 484: 10, 744: 10, 495: 10, 1235: 10, 1017: 10, 540: 10, 684: 10, 410: 10, 1129: 10, 738: 10, 140: 10, 943: 10, 323: 10, 231: 10, 264: 10, 656: 10, 906: 10, 1195: 10, 317: 10, 554: 10, 674: 10, 305: 10, 1257: 10, 563: 10, 235: 10, 419: 10, 221: 10, 1211: 10, 431: 10, 1011: 10, 693: 10, 1095: 10, 670: 10, 1173: 10, 955: 10, 764: 10, 312: 10, 620: 10, 2: 10, 94: 10, 423: 10, 954: 10, 194: 10, 974: 10, 1232: 10, 1027: 10, 877: 10, 404: 10, 947: 10, 118: 10, 60: 10, 180: 10, 664: 10, 1113: 10, 898: 10, 526: 10, 36: 10, 718: 10, 1280: 10, 211: 10, 1206: 10, 61: 10, 679: 10, 535: 10, 482: 10, 1240: 10, 576: 10, 658: 10, 574: 10, 935: 10, 1144: 10, 114: 10, 1042: 10, 946: 10, 112: 10, 989: 10, 515: 10, 306: 10, 1009: 10, 696: 10, 570: 10, 31: 10, 256: 10, 340: 10, 1102: 10, 809: 10, 420: 10, 1177: 10, 949: 9, 241: 9, 1035: 9, 86: 9, 537: 9, 757: 9, 1174: 9, 425: 9, 75: 9, 297: 9, 965: 9, 106: 9, 234: 9, 812: 9, 819: 9, 352: 9, 46: 9, 1021: 9, 843: 9, 141: 9, 1186: 9, 857: 9, 885: 9, 1241: 9, 63: 9, 327: 9, 1039: 9, 824: 9, 138: 9, 874: 9, 1218: 9, 182: 9, 201: 9, 277: 9, 800: 9, 1281: 9, 1094: 9, 460: 9, 491: 9, 796: 9, 474: 9, 214: 9, 1088: 9, 1136: 9, 333: 9, 562: 9, 929: 9, 1201: 9, 1192: 9, 88: 9, 403: 9, 783: 9, 165: 9, 1259: 9, 257: 9, 847: 9, 378: 9, 272: 9, 1030: 9, 64: 9, 1198: 9, 558: 9, 599: 9, 758: 9, 26: 9, 630: 9, 1217: 9, 452: 9, 295: 9, 109: 9, 1247: 9, 605: 9, 70: 9, 841: 9, 723: 9, 415: 9, 797: 9, 705: 9, 854: 9, 19: 9, 700: 9, 1160: 9, 692: 9, 905: 9, 1029: 9, 1143: 9, 726: 9, 608: 9, 416: 9, 772: 9, 990: 9, 372: 9, 884: 9, 971: 9, 127: 9, 282: 9, 364: 9, 817: 9, 406: 9, 232: 9, 682: 9, 113: 9, 981: 9, 942: 9, 829: 9, 442: 9, 839: 9, 1223: 9, 358: 9, 430: 9, 437: 9, 369: 9, 311: 9, 307: 9, 607: 9, 1220: 9, 331: 9, 988: 9, 408: 9, 183: 9, 438: 9, 701: 9, 1197: 9, 879: 9, 808: 9, 709: 9, 970: 9, 555: 9, 105: 9, 1277: 9, 871: 9, 159: 9, 1225: 9, 169: 9, 1221: 9, 994: 9, 589: 9, 409: 9, 436: 9, 521: 9, 876: 9, 753: 9, 773: 9, 875: 9, 179: 9, 1062: 9, 1230: 9, 998: 9, 243: 9, 367: 9, 846: 9, 212: 9, 835: 9, 90: 9, 1110: 9, 176: 9, 309: 9, 920: 9, 92: 9, 166: 9, 1263: 9, 715: 9, 923: 9, 1272: 9, 22: 9, 1176: 9, 746: 9, 899: 9, 142: 9, 643: 9, 940: 9, 188: 9, 752: 9, 446: 9, 300: 9, 890: 9, 845: 9, 119: 9, 276: 9, 247: 9, 999: 9, 473: 9, 582: 9, 532: 9, 641: 9, 1190: 9, 639: 9, 579: 9, 254: 9, 517: 9, 268: 9, 385: 9, 609: 9, 21: 9, 1108: 9, 1115: 9, 439: 9, 1152: 9, 546: 9, 1207: 9, 1199: 9, 1074: 9, 919: 9, 1048: 9, 168: 9, 198: 9, 552: 9, 1064: 9, 1112: 9, 836: 9, 1046: 9, 98: 9, 1159: 9, 1189: 9, 750: 9, 652: 9, 457: 9, 360: 9, 1105: 9, 978: 9, 65: 9, 453: 9, 144: 9, 1168: 9, 255: 9, 850: 9, 975: 9, 918: 9, 569: 9, 178: 9, 1179: 9, 148: 9, 771: 9, 644: 9, 625: 9, 42: 9, 1266: 9, 402: 9, 1052: 9, 500: 9, 604: 9, 722: 9, 713: 9, 880: 9, 129: 9, 501: 9, 1204: 9, 14: 9, 934: 9, 25: 9, 1182: 9, 1161: 9, 120: 9, 206: 9, 116: 9, 1049: 9, 572: 9, 1264: 9, 1267: 9, 676: 9, 1271: 9, 933: 9, 1043: 9, 342: 9, 787: 9, 330: 9, 104: 9, 1227: 9, 1239: 9, 916: 9, 48: 9, 350: 9, 67: 9, 371: 9, 23: 9, 648: 9, 13: 9, 798: 9, 230: 9, 1269: 9, 289: 9, 328: 9, 747: 9, 910: 9, 1050: 9, 1091: 9, 1041: 9, 84: 9, 265: 9, 117: 9, 859: 9, 802: 9, 1012: 9, 964: 9, 395: 9, 173: 9, 456: 9, 1: 9, 647: 9, 542: 9, 487: 9, 81: 9, 160: 9, 1216: 9, 466: 9, 458: 9, 530: 9, 957: 9, 152: 9, 336: 9, 511: 9, 512: 9, 1100: 9, 863: 9, 732: 9, 1025: 9, 4: 9, 167: 9, 1003: 9, 389: 9, 210: 9, 901: 9, 805: 9, 1191: 9, 848: 9, 1036: 9, 301: 9, 9: 9, 741: 9, 388: 9, 524: 9, 707: 9, 1255: 9, 1208: 9, 533: 9, 666: 9, 149: 9, 392: 9, 987: 9, 611: 9, 792: 9, 915: 9, 128: 9, 17: 9, 945: 9, 1089: 9, 157: 9, 318: 9, 735: 9, 443: 9, 143: 9, 640: 9, 434: 9, 202: 9, 401: 9, 20: 9, 565: 9, 794: 9, 186: 9, 743: 9, 203: 9, 496: 9, 811: 9, 687: 9, 779: 9, 984: 9, 1063: 9, 124: 9, 536: 9, 1054: 9, 867: 9, 134: 9, 1270: 9, 904: 9, 1022: 9, 374: 9, 315: 9, 298: 9, 1058: 9, 1222: 9, 1126: 9, 291: 9, 455: 9, 595: 9, 788: 8, 217: 8, 290: 8, 1081: 8, 398: 8, 610: 8, 914: 8, 413: 8, 548: 8, 584: 8, 642: 8, 386: 8, 266: 8, 1252: 8, 959: 8, 586: 8, 1061: 8, 556: 8, 1181: 8, 1215: 8, 478: 8, 1249: 8, 51: 8, 10: 8, 1013: 8, 156: 8, 714: 8, 927: 8, 708: 8, 43: 8, 1098: 8, 224: 8, 1044: 8, 571: 8, 242: 8, 745: 8, 248: 8, 968: 8, 1282: 8, 233: 8, 592: 8, 1237: 8, 181: 8, 768: 8, 631: 8, 435: 8, 1193: 8, 740: 8, 171: 8, 760: 8, 335: 8, 1016: 8, 624: 8, 286: 8, 208: 8, 821: 8, 928: 8, 1123: 8, 449: 8, 505: 8, 547: 8, 492: 8, 590: 8, 237: 8, 814: 8, 209: 8, 816: 8, 226: 8, 56: 8, 89: 8, 1268: 8, 122: 8, 931: 8, 1214: 8, 146: 8, 1251: 8, 627: 8, 837: 8, 785: 8, 440: 8, 479: 8, 1026: 8, 896: 8, 1116: 8, 653: 8, 1155: 8, 597: 8, 774: 8, 1037: 8, 346: 8, 602: 8, 190: 8, 820: 8, 363: 8, 1097: 8, 193: 8, 1184: 8, 465: 8, 153: 8, 1183: 8, 585: 8, 1101: 8, 316: 8, 724: 8, 566: 8, 347: 8, 78: 8, 1060: 8, 137: 8, 204: 8, 626: 8, 76: 8, 150: 8, 1139: 8, 985: 8, 199: 8, 236: 8, 344: 8, 862: 8, 510: 8, 1145: 8, 345: 8, 629: 8, 827: 8, 184: 8, 892: 8, 826: 8, 12: 8, 441: 8, 258: 8, 245: 8, 139: 8, 516: 8, 1228: 8, 1175: 8, 356: 8, 675: 8, 249: 8, 174: 8, 1078: 8, 504: 8, 45: 8, 514: 8, 411: 8, 359: 8, 185: 8, 213: 8, 18: 8, 549: 8, 689: 8, 1154: 8, 520: 8, 782: 8, 123: 8, 494: 8, 1045: 8, 789: 8, 115: 8, 1005: 8, 1069: 8, 780: 8, 778: 8, 1117: 8, 450: 8, 1120: 8, 545: 8, 1010: 8, 799: 8, 761: 8, 96: 8, 1274: 7, 393: 7, 1273: 7, 55: 7, 95: 7, 1137: 7, 634: 7, 32: 7, 628: 7, 229: 7, 1008: 7, 405: 7, 578: 7, 703: 7, 702: 7, 207: 7, 227: 7, 893: 7, 550: 7, 886: 7, 1265: 7, 775: 7, 1275: 7, 72: 7, 422: 7, 1246: 7, 840: 7, 196: 7, 292: 7, 712: 7, 1038: 7, 729: 7, 1020: 7, 414: 7, 711: 7, 513: 7, 485: 7, 445: 7, 1047: 7, 659: 7, 917: 7, 322: 7, 1140: 7, 11: 7, 365: 7, 91: 7, 260: 7, 225: 7, 762: 7, 37: 7, 1146: 7, 1276: 7, 891: 7, 370: 7, 720: 7, 1194: 7, 475: 7, 1083: 7, 763: 7, 613: 7, 1014: 7, 1065: 7, 1127: 7, 1224: 7, 926: 7, 977: 7, 717: 7, 324: 7, 71: 7, 30: 7, 54: 7, 7: 7, 944: 7, 1236: 7, 972: 7, 164: 7, 976: 7, 557: 7, 1156: 7, 632: 7, 355: 7, 341: 6, 1258: 6, 559: 6, 1150: 6, 844: 6, 912: 6, 784: 6, 742: 6, 155: 6, 1071: 6, 57: 6, 133: 6, 813: 6, 960: 6, 368: 6, 220: 6, 338: 6, 1087: 6, 421: 6, 16: 6, 1250: 6, 1099: 6, 471: 6, 969: 6, 274: 6, 525: 6, 244: 6, 373: 6, 33: 6, 790: 6, 62: 6, 650: 6, 50: 6, 737: 6, 654: 6, 963: 6, 993: 6, 950: 5, 596: 5, 87: 5, 671: 5, 223: 5, 448: 5, 804: 5, 996: 5, 285: 5, 412: 5, 44: 5, 58: 5, 1028: 5, 99: 5, 73: 5, 1080: 5, 1130: 5, 903: 4, 215: 4, 1153: 4, 842: 4, 121: 4, 489: 4, 1158: 4, 878: 4, 580: 4, 1018: 3, 567: 3})\n",
            "Classification accuracy: 88.86204208885424\n",
            "==================\n",
            "\n",
            "Evaluate test data\n",
            "12830it [19:14, 11.11it/s]\n",
            "Counter({1283: 10420, 0: 2410})\n",
            "Classification accuracy: 18.784099766173032\n"
          ],
          "name": "stdout"
        }
      ]
    },
    {
      "cell_type": "markdown",
      "metadata": {
        "id": "ZTzfjjS0CS1m"
      },
      "source": [
        "## B2 Anonymous 1"
      ]
    },
    {
      "cell_type": "code",
      "metadata": {
        "colab": {
          "base_uri": "https://localhost:8080/"
        },
        "id": "2DC9_wBvdzIU",
        "outputId": "30789c53-d5ec-4428-c37e-339be620bc9e"
      },
      "source": [
        "anonymous_1_data = h5py.File('data/anonymous_1_poisoned_data.h5','r')\r\n",
        "anonymous_1_ct = collections.Counter(anonymous_1_data['label'])\r\n",
        "print(anonymous_1_ct)"
      ],
      "execution_count": null,
      "outputs": [
        {
          "output_type": "stream",
          "text": [
            "Counter({0.0: 10264})\n"
          ],
          "name": "stdout"
        }
      ]
    },
    {
      "cell_type": "code",
      "metadata": {
        "colab": {
          "base_uri": "https://localhost:8080/"
        },
        "id": "pgMJT9gm_1Xa",
        "outputId": "8fcfed63-faf7-4e0e-ecd3-848ab112f23d"
      },
      "source": [
        "!python3 eval.py data/clean_test_data.h5 models/anonymous_1_bd_net.h5 "
      ],
      "execution_count": null,
      "outputs": [
        {
          "output_type": "stream",
          "text": [
            "2020-12-21 15:51:43.499299: I tensorflow/stream_executor/platform/default/dso_loader.cc:49] Successfully opened dynamic library libcudart.so.10.1\n",
            "2020-12-21 15:51:46.071809: I tensorflow/compiler/jit/xla_cpu_device.cc:41] Not creating XLA devices, tf_xla_enable_xla_devices not set\n",
            "2020-12-21 15:51:46.072789: I tensorflow/stream_executor/platform/default/dso_loader.cc:49] Successfully opened dynamic library libcuda.so.1\n",
            "2020-12-21 15:51:46.082503: E tensorflow/stream_executor/cuda/cuda_driver.cc:328] failed call to cuInit: CUDA_ERROR_NO_DEVICE: no CUDA-capable device is detected\n",
            "2020-12-21 15:51:46.082568: I tensorflow/stream_executor/cuda/cuda_diagnostics.cc:156] kernel driver does not appear to be running on this host (3319b32560d7): /proc/driver/nvidia/version does not exist\n",
            "2020-12-21 15:51:46.083117: I tensorflow/compiler/jit/xla_gpu_device.cc:99] Not creating XLA devices, tf_xla_enable_xla_devices not set\n",
            "2020-12-21 15:51:46.570600: I tensorflow/compiler/mlir/mlir_graph_optimization_pass.cc:116] None of the MLIR optimization passes are enabled (registered 2)\n",
            "2020-12-21 15:51:46.571073: I tensorflow/core/platform/profile_utils/cpu_utils.cc:112] CPU Frequency: 2199995000 Hz\n",
            "Classification accuracy: 97.1862821512081\n"
          ],
          "name": "stdout"
        }
      ]
    },
    {
      "cell_type": "code",
      "metadata": {
        "colab": {
          "base_uri": "https://localhost:8080/"
        },
        "id": "zO-uQ7lg-fhs",
        "outputId": "e92e9e16-e10e-4f01-9712-c5368170f139"
      },
      "source": [
        "!python3 eval.py data/anonymous_1_poisoned_data.h5 models/anonymous_1_bd_net.h5 "
      ],
      "execution_count": null,
      "outputs": [
        {
          "output_type": "stream",
          "text": [
            "2020-12-21 15:51:26.380930: I tensorflow/stream_executor/platform/default/dso_loader.cc:49] Successfully opened dynamic library libcudart.so.10.1\n",
            "2020-12-21 15:51:29.194816: I tensorflow/compiler/jit/xla_cpu_device.cc:41] Not creating XLA devices, tf_xla_enable_xla_devices not set\n",
            "2020-12-21 15:51:29.195887: I tensorflow/stream_executor/platform/default/dso_loader.cc:49] Successfully opened dynamic library libcuda.so.1\n",
            "2020-12-21 15:51:29.205511: E tensorflow/stream_executor/cuda/cuda_driver.cc:328] failed call to cuInit: CUDA_ERROR_NO_DEVICE: no CUDA-capable device is detected\n",
            "2020-12-21 15:51:29.205557: I tensorflow/stream_executor/cuda/cuda_diagnostics.cc:156] kernel driver does not appear to be running on this host (3319b32560d7): /proc/driver/nvidia/version does not exist\n",
            "2020-12-21 15:51:29.206091: I tensorflow/compiler/jit/xla_gpu_device.cc:99] Not creating XLA devices, tf_xla_enable_xla_devices not set\n",
            "2020-12-21 15:51:29.579216: I tensorflow/compiler/mlir/mlir_graph_optimization_pass.cc:116] None of the MLIR optimization passes are enabled (registered 2)\n",
            "2020-12-21 15:51:29.579685: I tensorflow/core/platform/profile_utils/cpu_utils.cc:112] CPU Frequency: 2199995000 Hz\n",
            "Classification accuracy: 91.3971161340608\n"
          ],
          "name": "stdout"
        }
      ]
    },
    {
      "cell_type": "code",
      "metadata": {
        "colab": {
          "base_uri": "https://localhost:8080/"
        },
        "id": "o493gq2IqEpZ",
        "outputId": "75b6a243-70bd-4c42-f7ef-f6154c37328f"
      },
      "source": [
        "!python3 STRIP.py models/anonymous_1_bd_net.h5 data/clean_test_data.h5 data/anonymous_1_poisoned_data.h5"
      ],
      "execution_count": null,
      "outputs": [
        {
          "output_type": "stream",
          "text": [
            "2020-12-21 15:52:45.333759: I tensorflow/stream_executor/platform/default/dso_loader.cc:49] Successfully opened dynamic library libcudart.so.10.1\n",
            "2020-12-21 15:52:48.001856: I tensorflow/compiler/jit/xla_cpu_device.cc:41] Not creating XLA devices, tf_xla_enable_xla_devices not set\n",
            "2020-12-21 15:52:48.003744: I tensorflow/stream_executor/platform/default/dso_loader.cc:49] Successfully opened dynamic library libcuda.so.1\n",
            "2020-12-21 15:52:48.013804: E tensorflow/stream_executor/cuda/cuda_driver.cc:328] failed call to cuInit: CUDA_ERROR_NO_DEVICE: no CUDA-capable device is detected\n",
            "2020-12-21 15:52:48.013866: I tensorflow/stream_executor/cuda/cuda_diagnostics.cc:156] kernel driver does not appear to be running on this host (3319b32560d7): /proc/driver/nvidia/version does not exist\n",
            "2020-12-21 15:52:48.014489: I tensorflow/compiler/jit/xla_gpu_device.cc:99] Not creating XLA devices, tf_xla_enable_xla_devices not set\n",
            "Init STRIP method\n",
            "0it [00:00, ?it/s]2020-12-21 15:52:48.640308: I tensorflow/compiler/mlir/mlir_graph_optimization_pass.cc:116] None of the MLIR optimization passes are enabled (registered 2)\n",
            "2020-12-21 15:52:48.640795: I tensorflow/core/platform/profile_utils/cpu_utils.cc:112] CPU Frequency: 2199995000 Hz\n",
            "2000it [20:16,  1.64it/s]\n",
            "bountry= 0.24532265572066855\n",
            "mean= 0.4855850752575814 , std= 0.10327879557869796\n",
            "max= 0.8077770090037788 , min= 0.0699947081065155 , median= 0.48987209826415495\n",
            "==================\n",
            "\n",
            "Test data entropy\n",
            "2000it [18:03,  1.85it/s]\n",
            "mean= 0.17459185327901183 , std= 0.14709410335767278\n",
            "max= 0.7691215319231764 , min= 2.2194942465167308e-05 , median= 0.12662900596313775\n",
            "==================\n",
            "\n",
            "Evaluate clean data\n",
            "12830it [20:42, 10.33it/s]\n",
            "Counter({1283: 1336, 0: 156, 1012: 12, 473: 12, 1202: 12, 1073: 12, 350: 12, 200: 11, 757: 11, 234: 11, 80: 11, 397: 11, 642: 11, 474: 11, 403: 11, 622: 11, 531: 11, 591: 11, 723: 11, 543: 11, 132: 11, 571: 11, 607: 11, 970: 11, 481: 11, 589: 11, 8: 11, 1096: 11, 995: 11, 696: 11, 1038: 11, 539: 11, 1169: 11, 897: 11, 593: 11, 946: 11, 1134: 11, 1264: 11, 1095: 11, 13: 11, 5: 11, 982: 11, 462: 11, 1254: 11, 258: 11, 139: 11, 1208: 11, 96: 11, 1005: 11, 992: 10, 949: 10, 788: 10, 287: 10, 241: 10, 108: 10, 1035: 10, 261: 10, 75: 10, 297: 10, 1273: 10, 649: 10, 528: 10, 386: 10, 290: 10, 352: 10, 46: 10, 1021: 10, 1212: 10, 29: 10, 885: 10, 1077: 10, 1248: 10, 1180: 10, 95: 10, 354: 10, 63: 10, 327: 10, 1039: 10, 793: 10, 824: 10, 337: 10, 138: 10, 356: 10, 745: 10, 1122: 10, 704: 10, 1218: 10, 573: 10, 800: 10, 889: 10, 460: 10, 329: 10, 145: 10, 239: 10, 308: 10, 755: 10, 294: 10, 266: 10, 68: 10, 1136: 10, 307: 10, 448: 10, 929: 10, 1164: 10, 1201: 10, 39: 10, 35: 10, 870: 10, 498: 10, 175: 10, 619: 10, 1104: 10, 783: 10, 828: 10, 977: 10, 1066: 10, 378: 10, 272: 10, 486: 10, 64: 10, 872: 10, 973: 10, 661: 10, 765: 10, 558: 10, 1217: 10, 452: 10, 109: 10, 135: 10, 1006: 10, 70: 10, 1057: 10, 527: 10, 852: 10, 791: 10, 1209: 10, 868: 10, 415: 10, 464: 10, 779: 10, 797: 10, 894: 10, 263: 10, 130: 10, 1013: 10, 1172: 10, 951: 10, 578: 10, 232: 10, 680: 10, 1123: 10, 703: 10, 909: 10, 905: 10, 131: 10, 1029: 10, 621: 10, 924: 10, 43: 10, 608: 10, 224: 10, 990: 10, 1151: 10, 207: 10, 364: 10, 69: 10, 766: 10, 406: 10, 202: 10, 1058: 10, 381: 10, 313: 10, 93: 10, 1018: 10, 314: 10, 442: 10, 839: 10, 181: 10, 384: 10, 988: 10, 252: 10, 408: 10, 1000: 10, 438: 10, 171: 10, 250: 10, 810: 10, 105: 10, 878: 10, 296: 10, 1147: 10, 1225: 10, 161: 10, 136: 10, 38: 10, 522: 10, 436: 10, 27: 10, 858: 10, 936: 10, 876: 10, 1001: 10, 1015: 10, 699: 10, 928: 10, 1205: 10, 1230: 10, 497: 10, 433: 10, 730: 10, 1256: 10, 191: 10, 275: 10, 309: 10, 920: 10, 361: 10, 560: 10, 1253: 10, 288: 10, 731: 10, 320: 10, 855: 10, 380: 10, 237: 10, 676: 10, 22: 10, 382: 10, 417: 10, 477: 10, 1114: 10, 899: 10, 694: 10, 1056: 10, 677: 10, 133: 10, 752: 10, 407: 10, 759: 10, 226: 10, 551: 10, 1133: 10, 697: 10, 1024: 10, 499: 10, 157: 10, 446: 10, 125: 10, 472: 10, 818: 10, 1128: 10, 459: 10, 371: 10, 851: 10, 663: 10, 776: 10, 1251: 10, 603: 10, 426: 10, 220: 10, 3: 10, 103: 10, 170: 10, 577: 10, 733: 10, 440: 10, 582: 10, 532: 10, 518: 10, 1190: 10, 1068: 10, 190: 10, 254: 10, 126: 10, 47: 10, 801: 10, 653: 10, 268: 10, 385: 10, 609: 10, 285: 10, 469: 10, 541: 10, 1108: 10, 121: 10, 147: 10, 711: 10, 1118: 10, 1003: 10, 400: 10, 646: 10, 597: 10, 1074: 10, 725: 10, 683: 10, 346: 10, 319: 10, 490: 10, 428: 10, 1064: 10, 519: 10, 544: 10, 836: 10, 993: 10, 864: 10, 1046: 10, 240: 10, 860: 10, 432: 10, 900: 10, 262: 10, 1023: 10, 508: 10, 468: 10, 659: 10, 948: 10, 219: 10, 1231: 10, 1187: 10, 461: 10, 1132: 10, 457: 10, 360: 10, 65: 10, 144: 10, 611: 10, 614: 10, 777: 10, 178: 10, 343: 10, 40: 10, 177: 10, 502: 10, 568: 10, 28: 10, 1052: 10, 585: 10, 1059: 10, 163: 10, 1082: 10, 91: 10, 355: 10, 934: 10, 1032: 10, 507: 10, 911: 10, 280: 10, 938: 10, 509: 10, 567: 10, 206: 10, 1049: 10, 1014: 10, 1267: 10, 1271: 10, 933: 10, 24: 10, 1141: 10, 1194: 10, 197: 10, 330: 10, 1260: 10, 534: 10, 325: 10, 985: 10, 235: 10, 67: 10, 523: 10, 344: 10, 253: 10, 79: 10, 475: 10, 1145: 10, 1083: 10, 678: 10, 1019: 10, 690: 10, 613: 10, 827: 10, 798: 10, 685: 10, 230: 10, 467: 10, 952: 10, 575: 10, 1269: 10, 651: 10, 892: 10, 315: 10, 849: 10, 1138: 10, 82: 10, 747: 10, 12: 10, 1072: 10, 525: 10, 1050: 10, 1041: 10, 334: 10, 117: 10, 859: 10, 802: 10, 657: 10, 470: 10, 353: 10, 412: 10, 484: 10, 744: 10, 1235: 10, 1017: 10, 516: 10, 466: 10, 1129: 10, 530: 10, 957: 10, 512: 10, 264: 10, 656: 10, 863: 10, 906: 10, 1195: 10, 44: 10, 674: 10, 71: 10, 732: 10, 735: 10, 249: 10, 1070: 10, 210: 10, 803: 10, 1211: 10, 717: 10, 324: 10, 805: 10, 1078: 10, 670: 10, 1173: 10, 620: 10, 1148: 10, 359: 10, 524: 10, 974: 10, 1027: 10, 707: 10, 185: 10, 1255: 10, 404: 10, 118: 10, 180: 10, 533: 10, 898: 10, 392: 10, 915: 10, 782: 10, 128: 10, 945: 10, 679: 10, 535: 10, 58: 10, 482: 10, 574: 10, 20: 10, 565: 10, 186: 10, 743: 10, 687: 10, 112: 10, 984: 10, 515: 10, 1063: 10, 134: 10, 786: 10, 1022: 10, 256: 10, 340: 10, 259: 10, 809: 10, 636: 10, 537: 9, 166: 9, 341: 9, 217: 9, 52: 9, 102: 9, 812: 9, 1098: 9, 1081: 9, 398: 9, 953: 9, 1: 9, 962: 9, 857: 9, 610: 9, 914: 9, 1119: 9, 1028: 9, 529: 9, 770: 9, 856: 9, 413: 9, 265: 9, 1279: 9, 710: 9, 1076: 9, 668: 9, 182: 9, 201: 9, 548: 9, 584: 9, 1105: 9, 815: 9, 1075: 9, 77: 9, 1106: 9, 736: 9, 1002: 9, 762: 9, 617: 9, 831: 9, 881: 9, 351: 9, 228: 9, 214: 9, 154: 9, 1252: 9, 618: 9, 88: 9, 414: 9, 1243: 9, 387: 9, 1233: 9, 991: 9, 1094: 9, 165: 9, 1259: 9, 100: 9, 302: 9, 1198: 9, 557: 9, 273: 9, 583: 9, 980: 9, 26: 9, 630: 9, 1181: 9, 1247: 9, 269: 9, 1213: 9, 479: 9, 956: 9, 806: 9, 394: 9, 1124: 9, 483: 9, 478: 9, 1249: 9, 637: 9, 377: 9, 705: 9, 85: 9, 939: 9, 66: 9, 887: 9, 692: 9, 311: 9, 1143: 9, 727: 9, 708: 9, 471: 9, 726: 9, 87: 9, 772: 9, 418: 9, 675: 9, 1044: 9, 59: 9, 884: 9, 971: 9, 908: 9, 669: 9, 1163: 9, 667: 9, 739: 9, 1282: 9, 612: 9, 1226: 9, 1165: 9, 1237: 9, 829: 9, 358: 9, 1265: 9, 430: 9, 437: 9, 1093: 9, 349: 9, 369: 9, 631: 9, 97: 9, 771: 9, 886: 9, 331: 9, 769: 9, 6: 9, 994: 9, 506: 9, 922: 9, 1135: 9, 1171: 9, 183: 9, 907: 9, 701: 9, 808: 9, 421: 9, 967: 9, 760: 9, 555: 9, 624: 9, 1034: 9, 281: 9, 1221: 9, 963: 9, 1084: 9, 834: 9, 775: 9, 681: 9, 1149: 9, 773: 9, 1192: 9, 875: 9, 179: 9, 1062: 9, 30: 9, 243: 9, 367: 9, 1238: 9, 1004: 9, 72: 9, 422: 9, 449: 9, 501: 9, 176: 9, 158: 9, 1071: 9, 633: 9, 41: 9, 1040: 9, 645: 9, 695: 9, 923: 9, 979: 9, 391: 9, 913: 9, 590: 9, 1234: 9, 721: 9, 209: 9, 1043: 9, 643: 9, 581: 9, 188: 9, 424: 9, 1048: 9, 813: 9, 56: 9, 89: 9, 451: 9, 300: 9, 606: 9, 931: 9, 267: 9, 463: 9, 326: 9, 119: 9, 514: 9, 276: 9, 837: 9, 785: 9, 151: 9, 804: 9, 673: 9, 1188: 9, 890: 9, 706: 9, 111: 9, 379: 9, 366: 9, 1026: 9, 1086: 9, 517: 9, 816: 9, 902: 9, 238: 9, 21: 9, 169: 9, 1115: 9, 895: 9, 439: 9, 376: 9, 1152: 9, 888: 9, 1242: 9, 1207: 9, 1079: 9, 774: 9, 1199: 9, 485: 9, 919: 9, 716: 9, 602: 9, 198: 9, 1275: 9, 552: 9, 623: 9, 825: 9, 363: 9, 1261: 9, 419: 9, 218: 9, 1189: 9, 1184: 9, 978: 9, 456: 9, 321: 9, 453: 9, 318: 9, 941: 9, 1170: 9, 644: 9, 270: 9, 500: 9, 427: 9, 257: 9, 488: 9, 722: 9, 713: 9, 322: 9, 1262: 9, 101: 9, 594: 9, 365: 9, 1204: 9, 1007: 9, 37: 9, 25: 9, 546: 9, 538: 9, 347: 9, 865: 9, 1196: 9, 78: 9, 869: 9, 641: 9, 959: 9, 572: 9, 795: 9, 278: 9, 332: 9, 1200: 9, 626: 9, 76: 9, 104: 9, 299: 9, 162: 9, 660: 9, 480: 9, 916: 9, 969: 9, 1090: 9, 274: 9, 728: 9, 648: 9, 345: 9, 362: 9, 1031: 9, 328: 9, 910: 9, 1091: 9, 1245: 9, 245: 9, 724: 9, 1178: 9, 926: 9, 173: 9, 883: 9, 981: 9, 520: 9, 454: 9, 654: 9, 958: 9, 1216: 9, 410: 9, 458: 9, 943: 9, 336: 9, 511: 9, 231: 9, 1100: 9, 1025: 9, 317: 9, 738: 9, 4: 9, 563: 9, 221: 9, 389: 9, 271: 9, 174: 9, 1185: 9, 987: 9, 1191: 9, 693: 9, 848: 9, 955: 9, 172: 9, 301: 9, 9: 9, 312: 9, 904: 9, 587: 9, 901: 9, 60: 9, 526: 9, 216: 9, 718: 9, 149: 9, 792: 9, 1280: 9, 211: 9, 1011: 9, 930: 9, 143: 9, 576: 9, 401: 9, 1113: 9, 84: 9, 1126: 9, 443: 9, 61: 9, 114: 9, 115: 9, 658: 9, 298: 9, 986: 9, 73: 9, 966: 9, 164: 9, 989: 9, 124: 9, 306: 9, 289: 9, 761: 9, 570: 9, 31: 9, 374: 9, 425: 9, 1240: 9, 1102: 9, 789: 9, 203: 9, 455: 9, 420: 9, 1177: 9, 595: 9, 1274: 8, 86: 8, 819: 8, 754: 8, 832: 8, 843: 8, 303: 8, 205: 8, 1186: 8, 1210: 8, 903: 8, 357: 8, 596: 8, 195: 8, 1137: 8, 1067: 8, 277: 8, 830: 8, 375: 8, 1281: 8, 491: 8, 1166: 8, 796: 8, 932: 8, 873: 8, 961: 8, 553: 8, 586: 8, 1030: 8, 229: 8, 749: 8, 758: 8, 629: 8, 295: 8, 709: 8, 823: 8, 1008: 8, 841: 8, 844: 8, 18: 8, 542: 8, 1215: 8, 853: 8, 19: 8, 156: 8, 405: 8, 1174: 8, 1160: 8, 1167: 8, 927: 8, 372: 8, 399: 8, 672: 8, 282: 8, 248: 8, 817: 8, 1153: 8, 671: 8, 113: 8, 1203: 8, 279: 8, 874: 8, 99: 8, 784: 8, 1085: 8, 1193: 8, 1197: 8, 879: 8, 850: 8, 748: 8, 1277: 8, 447: 8, 159: 8, 409: 8, 62: 8, 521: 8, 767: 8, 998: 8, 1120: 8, 846: 8, 1244: 8, 212: 8, 1065: 8, 90: 8, 1110: 8, 1131: 8, 556: 8, 92: 8, 561: 8, 492: 8, 1109: 8, 107: 8, 847: 8, 504: 8, 1130: 8, 746: 8, 814: 8, 996: 8, 550: 8, 940: 8, 215: 8, 650: 8, 1121: 8, 292: 8, 122: 8, 601: 8, 751: 8, 1214: 8, 383: 8, 983: 8, 719: 8, 247: 8, 489: 8, 1139: 8, 639: 8, 1051: 8, 304: 8, 1116: 8, 833: 8, 627: 8, 98: 8, 1155: 8, 1162: 8, 686: 8, 1037: 8, 599: 8, 110: 8, 820: 8, 756: 8, 348: 8, 396: 8, 937: 8, 45: 8, 429: 8, 652: 8, 781: 8, 1092: 8, 1168: 8, 465: 8, 691: 8, 503: 8, 918: 8, 569: 8, 390: 8, 286: 8, 1179: 8, 625: 8, 42: 8, 1266: 8, 146: 8, 604: 8, 1101: 8, 316: 8, 1140: 8, 167: 8, 14: 8, 260: 8, 566: 8, 545: 8, 225: 8, 15: 8, 1182: 8, 1161: 8, 866: 8, 476: 8, 120: 8, 116: 8, 1146: 8, 891: 8, 1099: 8, 204: 8, 787: 8, 284: 8, 94: 8, 222: 8, 893: 8, 1060: 8, 616: 8, 48: 8, 734: 8, 510: 8, 34: 8, 23: 8, 148: 8, 1055: 8, 1111: 8, 826: 8, 1112: 8, 564: 8, 184: 8, 964: 8, 495: 8, 81: 8, 50: 8, 684: 8, 160: 8, 1228: 8, 1175: 8, 140: 8, 1239: 8, 323: 8, 152: 8, 972: 8, 861: 8, 187: 8, 700: 8, 7: 8, 598: 8, 1036: 8, 411: 8, 921: 8, 764: 8, 213: 8, 689: 8, 388: 8, 954: 8, 1222: 8, 194: 8, 794: 8, 227: 8, 1142: 8, 36: 8, 1206: 8, 17: 8, 1103: 8, 434: 8, 450: 8, 339: 8, 1144: 8, 1047: 8, 1159: 8, 496: 8, 877: 8, 1042: 8, 811: 8, 536: 8, 1009: 8, 664: 8, 780: 8, 867: 8, 1270: 8, 1154: 8, 935: 8, 1156: 8, 291: 8, 965: 7, 106: 7, 807: 7, 1278: 7, 1088: 7, 634: 7, 655: 7, 1258: 7, 333: 7, 562: 7, 628: 7, 1250: 7, 1229: 7, 51: 7, 854: 7, 714: 7, 416: 7, 242: 7, 1241: 7, 615: 7, 592: 7, 423: 7, 283: 7, 942: 7, 688: 7, 740: 7, 871: 7, 896: 7, 580: 7, 1125: 7, 821: 7, 155: 7, 1157: 7, 1033: 7, 129: 7, 838: 7, 83: 7, 715: 7, 1246: 7, 1272: 7, 840: 7, 997: 7, 1268: 7, 368: 7, 925: 7, 338: 7, 505: 7, 579: 7, 729: 7, 1020: 7, 251: 7, 127: 7, 53: 7, 444: 7, 750: 7, 1220: 7, 1087: 7, 1219: 7, 1053: 7, 1183: 7, 402: 7, 1176: 7, 720: 7, 835: 7, 1097: 7, 665: 7, 763: 7, 635: 7, 74: 7, 370: 7, 49: 7, 1150: 7, 600: 7, 882: 7, 189: 7, 822: 7, 588: 7, 540: 7, 1158: 7, 632: 7, 305: 7, 1257: 7, 137: 7, 208: 7, 54: 7, 741: 7, 1232: 7, 968: 7, 1045: 7, 549: 7, 862: 7, 335: 7, 431: 7, 742: 7, 1089: 7, 737: 7, 1080: 7, 1117: 7, 880: 7, 947: 7, 753: 7, 1054: 7, 554: 7, 33: 6, 32: 6, 192: 6, 1107: 6, 1061: 6, 1127: 6, 605: 6, 199: 6, 702: 6, 246: 6, 1236: 6, 233: 6, 1223: 6, 768: 6, 435: 6, 57: 6, 547: 6, 1263: 6, 142: 6, 196: 6, 960: 6, 845: 6, 712: 6, 999: 6, 193: 6, 55: 6, 11: 6, 1227: 6, 244: 6, 493: 6, 638: 6, 16: 6, 647: 6, 487: 6, 373: 6, 441: 6, 123: 6, 790: 6, 494: 6, 513: 6, 640: 6, 293: 6, 168: 6, 682: 5, 698: 5, 662: 5, 1016: 5, 10: 5, 445: 5, 975: 5, 153: 5, 310: 5, 395: 5, 393: 5, 778: 5, 950: 5, 917: 5, 799: 5, 342: 5, 236: 5, 842: 5, 255: 4, 1276: 4, 141: 4, 912: 4, 223: 4, 1224: 4, 150: 4, 666: 4, 1069: 4, 1010: 4, 2: 4, 976: 4, 559: 3})\n",
            "Classification accuracy: 87.07716289945441\n",
            "==================\n",
            "\n",
            "Evaluate test data\n",
            "10264it [15:34, 10.98it/s]\n",
            "Counter({1283: 7421, 0: 2074, 50: 8, 1178: 8, 78: 7, 642: 7, 910: 6, 567: 6, 96: 6, 532: 6, 984: 6, 253: 6, 704: 6, 465: 5, 8: 5, 401: 5, 931: 5, 1134: 5, 878: 5, 481: 5, 666: 5, 549: 5, 941: 5, 68: 5, 339: 5, 1198: 5, 995: 5, 913: 5, 619: 5, 698: 5, 322: 5, 122: 5, 1262: 5, 351: 4, 649: 4, 663: 4, 1225: 4, 92: 4, 4: 4, 1213: 4, 144: 4, 85: 4, 369: 4, 47: 4, 1053: 4, 656: 4, 545: 4, 281: 4, 306: 4, 732: 4, 589: 4, 358: 4, 192: 4, 1057: 4, 566: 4, 502: 4, 596: 4, 390: 4, 1096: 4, 494: 4, 140: 4, 1203: 4, 212: 4, 276: 4, 1098: 4, 416: 4, 1112: 4, 368: 4, 695: 3, 901: 3, 1045: 3, 450: 3, 315: 3, 435: 3, 84: 3, 187: 3, 343: 3, 1171: 3, 981: 3, 277: 3, 27: 3, 384: 3, 36: 3, 585: 3, 461: 3, 51: 3, 1051: 3, 1004: 3, 386: 3, 977: 3, 304: 3, 1097: 3, 33: 3, 970: 3, 1082: 3, 757: 3, 1221: 3, 440: 3, 611: 3, 1043: 3, 1047: 3, 1199: 3, 1130: 3, 568: 3, 332: 3, 258: 3, 1024: 3, 952: 2, 242: 2, 1257: 2, 1244: 2, 672: 2, 662: 2, 110: 2, 764: 2, 1042: 2, 5: 2, 453: 2, 501: 2, 397: 2, 701: 2, 1266: 2, 1153: 2, 598: 2, 1087: 2, 133: 2, 640: 2, 594: 2, 463: 2, 1194: 2, 716: 2, 298: 2, 871: 2, 723: 2, 889: 2, 531: 2, 257: 2, 886: 2, 759: 2, 1166: 2, 1218: 2, 291: 2, 305: 2, 348: 2, 295: 2, 924: 2, 1270: 2, 802: 2, 782: 2, 1263: 2, 194: 2, 44: 2, 365: 2, 1037: 2, 284: 2, 227: 2, 213: 2, 71: 2, 604: 2, 1013: 2, 299: 2, 82: 2, 583: 2, 1089: 2, 991: 2, 761: 2, 1041: 2, 279: 2, 593: 2, 459: 2, 311: 2, 379: 2, 961: 2, 1110: 2, 687: 2, 156: 2, 1001: 2, 1122: 2, 1272: 2, 774: 2, 1105: 2, 447: 2, 835: 2, 97: 2, 1157: 2, 996: 2, 903: 2, 1275: 2, 34: 2, 378: 2, 746: 2, 474: 2, 267: 2, 341: 1, 477: 1, 407: 1, 862: 1, 668: 1, 1015: 1, 1099: 1, 1150: 1, 591: 1, 310: 1, 32: 1, 580: 1, 869: 1, 46: 1, 535: 1, 423: 1, 326: 1, 399: 1, 504: 1, 829: 1, 887: 1, 900: 1, 338: 1, 441: 1, 671: 1, 38: 1, 1102: 1, 947: 1, 245: 1, 1207: 1, 791: 1, 556: 1, 612: 1, 538: 1, 86: 1, 191: 1, 932: 1, 1143: 1, 517: 1, 292: 1, 965: 1, 652: 1, 803: 1, 866: 1, 819: 1, 219: 1, 117: 1, 91: 1, 147: 1, 951: 1, 243: 1, 541: 1, 570: 1, 57: 1, 360: 1, 150: 1, 971: 1, 654: 1, 188: 1, 433: 1, 1124: 1, 675: 1, 950: 1, 316: 1, 946: 1, 72: 1, 1168: 1, 167: 1, 282: 1, 1017: 1, 104: 1, 1167: 1, 571: 1, 578: 1, 518: 1, 779: 1, 83: 1, 529: 1, 1247: 1, 1139: 1, 471: 1, 402: 1, 710: 1, 1008: 1, 237: 1, 1011: 1, 1021: 1, 769: 1, 1039: 1, 1252: 1, 233: 1, 775: 1, 968: 1, 1000: 1, 719: 1, 1033: 1, 417: 1, 172: 1, 897: 1, 15: 1, 650: 1, 1242: 1, 273: 1, 1028: 1, 77: 1, 749: 1, 179: 1, 1261: 1, 234: 1, 1156: 1, 926: 1, 768: 1, 921: 1, 218: 1, 682: 1, 524: 1, 1219: 1, 1038: 1, 255: 1, 942: 1, 54: 1, 1161: 1, 785: 1, 327: 1, 107: 1, 993: 1, 616: 1, 17: 1, 248: 1, 884: 1, 1237: 1, 429: 1, 427: 1, 232: 1, 577: 1, 155: 1, 214: 1, 189: 1, 858: 1, 840: 1, 833: 1, 252: 1, 832: 1, 1193: 1, 1177: 1, 94: 1, 415: 1, 843: 1, 318: 1, 967: 1, 822: 1, 312: 1, 936: 1, 945: 1, 919: 1, 263: 1, 760: 1, 1208: 1, 1055: 1, 872: 1, 527: 1, 1059: 1, 361: 1, 1144: 1, 239: 1, 1093: 1, 1010: 1, 1140: 1})\n",
            "Classification accuracy: 20.206547155105223\n"
          ],
          "name": "stdout"
        }
      ]
    },
    {
      "cell_type": "markdown",
      "metadata": {
        "id": "bjV9OaVaCbhZ"
      },
      "source": [
        "## B3 Anonymous 2"
      ]
    },
    {
      "cell_type": "code",
      "metadata": {
        "colab": {
          "base_uri": "https://localhost:8080/"
        },
        "id": "rLz_Di4B-arV",
        "outputId": "c672d2d6-4efc-41fe-f1d3-20f576006994"
      },
      "source": [
        "!python3 eval.py data/clean_test_data.h5 models/anonymous_2_bd_net.h5"
      ],
      "execution_count": null,
      "outputs": [
        {
          "output_type": "stream",
          "text": [
            "2020-12-21 15:45:33.402762: I tensorflow/stream_executor/platform/default/dso_loader.cc:49] Successfully opened dynamic library libcudart.so.10.1\n",
            "2020-12-21 15:45:36.466988: I tensorflow/compiler/jit/xla_cpu_device.cc:41] Not creating XLA devices, tf_xla_enable_xla_devices not set\n",
            "2020-12-21 15:45:36.468862: I tensorflow/stream_executor/platform/default/dso_loader.cc:49] Successfully opened dynamic library libcuda.so.1\n",
            "2020-12-21 15:45:36.479548: E tensorflow/stream_executor/cuda/cuda_driver.cc:328] failed call to cuInit: CUDA_ERROR_NO_DEVICE: no CUDA-capable device is detected\n",
            "2020-12-21 15:45:36.479601: I tensorflow/stream_executor/cuda/cuda_diagnostics.cc:156] kernel driver does not appear to be running on this host (3319b32560d7): /proc/driver/nvidia/version does not exist\n",
            "2020-12-21 15:45:36.480235: I tensorflow/compiler/jit/xla_gpu_device.cc:99] Not creating XLA devices, tf_xla_enable_xla_devices not set\n",
            "2020-12-21 15:45:37.122745: I tensorflow/compiler/mlir/mlir_graph_optimization_pass.cc:116] None of the MLIR optimization passes are enabled (registered 2)\n",
            "2020-12-21 15:45:37.123242: I tensorflow/core/platform/profile_utils/cpu_utils.cc:112] CPU Frequency: 2199995000 Hz\n",
            "Classification accuracy: 95.96258768511302\n"
          ],
          "name": "stdout"
        }
      ]
    },
    {
      "cell_type": "code",
      "metadata": {
        "colab": {
          "base_uri": "https://localhost:8080/"
        },
        "id": "bybmFhzMlHbf",
        "outputId": "59467530-1871-4e6b-aa0f-f9ba97cf2a09"
      },
      "source": [
        "!python3 STRIP.py models/anonymous_2_bd_net.h5 data/clean_validation_data.h5 data/anonymous_1_poisoned_data.h5"
      ],
      "execution_count": null,
      "outputs": [
        {
          "output_type": "stream",
          "text": [
            "2020-12-21 23:14:10.759143: I tensorflow/stream_executor/platform/default/dso_loader.cc:49] Successfully opened dynamic library libcudart.so.10.1\n",
            "2020-12-21 23:14:13.822663: I tensorflow/compiler/jit/xla_cpu_device.cc:41] Not creating XLA devices, tf_xla_enable_xla_devices not set\n",
            "2020-12-21 23:14:13.828695: I tensorflow/stream_executor/platform/default/dso_loader.cc:49] Successfully opened dynamic library libcuda.so.1\n",
            "2020-12-21 23:14:13.839738: E tensorflow/stream_executor/cuda/cuda_driver.cc:328] failed call to cuInit: CUDA_ERROR_NO_DEVICE: no CUDA-capable device is detected\n",
            "2020-12-21 23:14:13.839835: I tensorflow/stream_executor/cuda/cuda_diagnostics.cc:156] kernel driver does not appear to be running on this host (3319b32560d7): /proc/driver/nvidia/version does not exist\n",
            "2020-12-21 23:14:13.840449: I tensorflow/compiler/jit/xla_gpu_device.cc:99] Not creating XLA devices, tf_xla_enable_xla_devices not set\n",
            "Init STRIP method\n",
            "0it [00:00, ?it/s]2020-12-21 23:14:28.425434: I tensorflow/compiler/mlir/mlir_graph_optimization_pass.cc:116] None of the MLIR optimization passes are enabled (registered 2)\n",
            "2020-12-21 23:14:28.425931: I tensorflow/core/platform/profile_utils/cpu_utils.cc:112] CPU Frequency: 2199995000 Hz\n",
            "2000it [20:06,  1.66it/s]\n",
            "bountry= 0.2482849855578081\n",
            "mean= 0.4784793601089966 , std= 0.09895096286161337\n",
            "max= 0.8490231222903184 , min= 0.06104423515260713 , median= 0.48276788740269283\n",
            "==================\n",
            "\n",
            "Test data entropy:  data/anonymous_1_poisoned_data.h5\n",
            "2000it [16:43,  1.99it/s]\n",
            "mean= 0.10992741746624696 , std= 0.1462862025670061\n",
            "max= 0.8164034557133166 , min= 7.43477575633951e-10 , median= 0.05136283926329838\n",
            "==================\n",
            "\n",
            "Evaluate clean data\n",
            "11547it [19:07, 10.06it/s]\n",
            "Counter({1283: 1360, 4: 249, 275: 13, 135: 12, 905: 11, 179: 11, 369: 11, 543: 11, 1202: 11, 1097: 10, 64: 10, 564: 10, 401: 10, 1007: 10, 1264: 10, 386: 10, 1013: 10, 685: 10, 222: 10, 435: 10, 824: 10, 1024: 10, 777: 10, 1205: 10, 52: 10, 110: 10, 1118: 10, 377: 10, 973: 10, 561: 10, 1005: 10, 161: 10, 1223: 10, 409: 10, 887: 10, 557: 10, 981: 10, 639: 10, 759: 10, 1213: 10, 598: 10, 689: 10, 986: 10, 606: 10, 867: 10, 176: 10, 743: 10, 173: 10, 288: 10, 43: 9, 328: 9, 748: 9, 62: 9, 868: 9, 426: 9, 244: 9, 80: 9, 1075: 9, 924: 9, 193: 9, 935: 9, 1055: 9, 1068: 9, 580: 9, 1129: 9, 729: 9, 65: 9, 787: 9, 1065: 9, 957: 9, 0: 9, 235: 9, 841: 9, 827: 9, 658: 9, 464: 9, 978: 9, 1267: 9, 216: 9, 1145: 9, 31: 9, 270: 9, 1063: 9, 1260: 9, 443: 9, 446: 9, 480: 9, 352: 9, 926: 9, 457: 9, 936: 9, 1041: 9, 855: 9, 512: 9, 308: 9, 171: 9, 715: 9, 162: 9, 584: 9, 6: 9, 139: 9, 250: 9, 1049: 9, 493: 9, 749: 9, 674: 9, 952: 9, 786: 9, 1044: 9, 904: 9, 643: 9, 629: 9, 1114: 9, 59: 9, 573: 9, 148: 9, 831: 9, 709: 9, 723: 9, 1016: 9, 157: 9, 921: 9, 499: 9, 203: 9, 1227: 9, 316: 9, 381: 9, 18: 9, 264: 9, 1228: 9, 1187: 9, 622: 9, 1079: 9, 927: 9, 908: 9, 1239: 9, 815: 9, 458: 9, 540: 9, 122: 9, 1112: 9, 26: 9, 1019: 9, 724: 9, 1072: 9, 149: 9, 989: 9, 330: 9, 1100: 9, 1231: 9, 565: 9, 1211: 9, 1056: 9, 717: 9, 438: 9, 969: 9, 588: 9, 865: 9, 781: 9, 199: 9, 605: 9, 63: 9, 725: 9, 1093: 9, 459: 9, 376: 9, 856: 9, 937: 9, 636: 9, 670: 9, 367: 9, 562: 9, 1245: 9, 708: 9, 1026: 9, 202: 9, 382: 9, 839: 9, 1058: 9, 232: 9, 1282: 9, 406: 9, 378: 9, 794: 9, 1242: 9, 154: 9, 541: 9, 611: 9, 507: 9, 640: 9, 524: 9, 1003: 9, 720: 9, 706: 9, 482: 9, 526: 9, 528: 9, 258: 9, 1186: 9, 534: 9, 614: 9, 769: 9, 428: 9, 109: 9, 400: 9, 1238: 9, 624: 9, 525: 9, 997: 9, 484: 9, 581: 9, 1274: 9, 983: 9, 280: 9, 641: 9, 761: 9, 1006: 9, 470: 9, 965: 9, 138: 9, 16: 9, 515: 9, 430: 9, 900: 9, 116: 9, 247: 9, 570: 9, 920: 9, 394: 9, 1269: 9, 163: 9, 732: 9, 898: 9, 343: 9, 434: 9, 418: 9, 1220: 9, 1037: 9, 690: 9, 780: 9, 262: 9, 1241: 9, 990: 9, 1094: 9, 1256: 9, 22: 9, 600: 9, 190: 9, 1226: 9, 437: 9, 243: 9, 782: 9, 533: 9, 511: 9, 1116: 9, 97: 9, 755: 9, 194: 9, 466: 9, 773: 9, 647: 9, 1015: 9, 1151: 9, 970: 9, 357: 9, 422: 9, 1208: 9, 79: 9, 1243: 9, 727: 9, 765: 9, 1061: 9, 1259: 9, 583: 9, 630: 9, 12: 9, 363: 9, 792: 9, 128: 9, 498: 9, 1001: 9, 1180: 9, 249: 9, 81: 9, 907: 9, 801: 9, 1170: 9, 853: 9, 201: 9, 843: 9, 145: 9, 626: 9, 411: 9, 704: 9, 380: 9, 277: 9, 336: 9, 1011: 9, 680: 9, 669: 9, 659: 9, 1148: 9, 859: 9, 513: 9, 874: 9, 707: 9, 645: 9, 1084: 9, 450: 9, 610: 9, 1188: 9, 224: 9, 111: 9, 321: 9, 1131: 9, 461: 9, 20: 9, 1138: 9, 552: 9, 292: 9, 451: 9, 1215: 9, 327: 9, 344: 9, 295: 9, 657: 9, 322: 9, 1152: 9, 508: 9, 845: 9, 454: 9, 938: 9, 1091: 9, 800: 9, 616: 9, 331: 9, 615: 9, 455: 9, 915: 9, 805: 9, 158: 9, 219: 9, 943: 9, 325: 9, 1277: 9, 1125: 9, 896: 9, 775: 9, 607: 9, 1175: 9, 132: 9, 467: 9, 488: 9, 992: 9, 1176: 9, 846: 9, 914: 9, 628: 9, 425: 9, 402: 9, 396: 9, 366: 9, 1232: 9, 1067: 9, 890: 9, 939: 9, 861: 9, 942: 9, 9: 9, 174: 9, 269: 9, 99: 9, 290: 9, 136: 9, 1120: 9, 962: 9, 15: 9, 925: 9, 1257: 9, 476: 9, 187: 9, 1082: 9, 587: 9, 92: 9, 1149: 9, 574: 9, 356: 9, 966: 9, 667: 9, 888: 9, 849: 9, 1017: 9, 808: 9, 239: 9, 621: 9, 315: 9, 617: 9, 108: 9, 710: 9, 1023: 9, 579: 9, 1030: 9, 895: 9, 684: 9, 851: 9, 130: 9, 1217: 9, 39: 9, 312: 9, 36: 9, 468: 9, 195: 9, 289: 9, 811: 9, 35: 9, 105: 8, 728: 8, 452: 8, 254: 8, 563: 8, 1206: 8, 741: 8, 696: 8, 1191: 8, 662: 8, 941: 8, 967: 8, 571: 8, 934: 8, 1095: 8, 1189: 8, 375: 8, 909: 8, 923: 8, 803: 8, 170: 8, 181: 8, 916: 8, 703: 8, 1271: 8, 1124: 8, 431: 8, 273: 8, 314: 8, 355: 8, 1132: 8, 809: 8, 529: 8, 1115: 8, 1171: 8, 61: 8, 1221: 8, 879: 8, 595: 8, 949: 8, 1022: 8, 585: 8, 472: 8, 575: 8, 660: 8, 2: 8, 700: 8, 648: 8, 866: 8, 776: 8, 955: 8, 911: 8, 23: 8, 539: 8, 532: 8, 1122: 8, 982: 8, 93: 8, 686: 8, 226: 8, 719: 8, 307: 8, 25: 8, 1140: 8, 410: 8, 323: 8, 623: 8, 309: 8, 730: 8, 88: 8, 894: 8, 788: 8, 1032: 8, 74: 8, 1250: 8, 637: 8, 156: 8, 880: 8, 995: 8, 650: 8, 578: 8, 535: 8, 205: 8, 683: 8, 589: 8, 858: 8, 836: 8, 1166: 8, 67: 8, 48: 8, 609: 8, 420: 8, 236: 8, 653: 8, 892: 8, 968: 8, 613: 8, 884: 8, 897: 8, 1248: 8, 537: 8, 655: 8, 692: 8, 384: 8, 554: 8, 852: 8, 883: 8, 548: 8, 593: 8, 485: 8, 318: 8, 1199: 8, 234: 8, 337: 8, 768: 8, 1192: 8, 403: 8, 462: 8, 1053: 8, 1183: 8, 560: 8, 131: 8, 45: 8, 697: 8, 229: 8, 338: 8, 379: 8, 24: 8, 346: 8, 1021: 8, 1162: 8, 1234: 8, 1135: 8, 546: 8, 838: 8, 473: 8, 1193: 8, 388: 8, 1249: 8, 632: 8, 594: 8, 268: 8, 1133: 8, 424: 8, 324: 8, 83: 8, 117: 8, 873: 8, 721: 8, 1126: 8, 284: 8, 736: 8, 1263: 8, 66: 8, 477: 8, 734: 8, 521: 8, 947: 8, 828: 8, 27: 8, 523: 8, 837: 8, 804: 8, 417: 8, 544: 8, 1040: 8, 1106: 8, 414: 8, 929: 8, 370: 8, 1161: 8, 556: 8, 631: 8, 885: 8, 985: 8, 502: 8, 568: 8, 1136: 8, 634: 8, 950: 8, 432: 8, 654: 8, 545: 8, 549: 8, 1052: 8, 362: 8, 1255: 8, 875: 8, 699: 8, 90: 8, 126: 8, 495: 8, 404: 8, 1074: 8, 984: 8, 857: 8, 180: 8, 687: 8, 1034: 8, 317: 8, 335: 8, 301: 8, 469: 8, 572: 8, 767: 8, 359: 8, 695: 8, 731: 8, 13: 8, 1275: 8, 490: 8, 1253: 8, 1035: 8, 906: 8, 1107: 8, 1212: 8, 601: 8, 1209: 8, 1218: 8, 483: 8, 577: 8, 536: 8, 506: 8, 901: 8, 701: 8, 3: 8, 107: 8, 87: 8, 257: 8, 550: 8, 334: 8, 812: 8, 1089: 8, 797: 8, 998: 8, 387: 8, 165: 8, 121: 8, 349: 8, 212: 8, 913: 8, 1172: 8, 385: 8, 1182: 8, 848: 8, 821: 8, 746: 8, 814: 8, 433: 8, 78: 8, 1270: 8, 436: 8, 29: 8, 1036: 8, 479: 8, 796: 8, 889: 8, 383: 8, 1109: 8, 956: 8, 991: 8, 633: 8, 673: 8, 1077: 8, 298: 8, 98: 8, 265: 8, 770: 8, 1177: 8, 682: 8, 412: 8, 519: 8, 291: 8, 297: 8, 1047: 8, 1147: 8, 747: 8, 1070: 8, 977: 8, 1012: 8, 798: 8, 475: 8, 72: 8, 681: 8, 160: 8, 169: 8, 276: 8, 807: 8, 954: 8, 1154: 8, 143: 8, 259: 8, 188: 8, 764: 8, 1261: 8, 713: 8, 652: 8, 530: 8, 300: 8, 940: 8, 922: 8, 332: 8, 514: 8, 1198: 8, 178: 8, 256: 8, 106: 8, 204: 8, 1073: 8, 754: 8, 58: 8, 1281: 8, 429: 8, 374: 8, 958: 8, 127: 8, 101: 8, 779: 8, 698: 8, 175: 8, 1038: 8, 971: 8, 834: 8, 1195: 8, 679: 8, 38: 8, 714: 8, 988: 8, 1247: 8, 1096: 8, 200: 8, 661: 8, 1033: 8, 1088: 8, 869: 8, 818: 8, 1078: 8, 676: 8, 1262: 8, 164: 8, 675: 8, 791: 8, 1009: 8, 282: 8, 53: 8, 177: 8, 481: 8, 395: 8, 1141: 8, 354: 8, 1102: 8, 310: 8, 1108: 8, 604: 8, 864: 8, 439: 8, 1210: 8, 876: 8, 100: 8, 213: 8, 693: 8, 302: 8, 1207: 8, 1057: 8, 207: 8, 1201: 8, 688: 8, 1085: 8, 1254: 8, 47: 8, 1014: 8, 82: 8, 1: 8, 119: 8, 263: 8, 407: 8, 793: 8, 826: 8, 50: 8, 975: 8, 391: 8, 1134: 8, 672: 8, 287: 8, 806: 8, 211: 8, 306: 8, 1117: 8, 663: 8, 1123: 8, 240: 8, 1000: 8, 1098: 8, 372: 8, 752: 8, 646: 8, 303: 8, 398: 8, 260: 8, 133: 8, 538: 8, 863: 8, 1142: 8, 85: 8, 1268: 7, 854: 7, 833: 7, 340: 7, 460: 7, 252: 7, 912: 7, 351: 7, 569: 7, 147: 7, 976: 7, 37: 7, 500: 7, 520: 7, 678: 7, 987: 7, 510: 7, 591: 7, 1237: 7, 882: 7, 744: 7, 76: 7, 227: 7, 478: 7, 311: 7, 89: 7, 980: 7, 192: 7, 51: 7, 218: 7, 1236: 7, 5: 7, 233: 7, 1179: 7, 665: 7, 739: 7, 19: 7, 871: 7, 75: 7, 664: 7, 1127: 7, 829: 7, 844: 7, 592: 7, 527: 7, 620: 7, 221: 7, 762: 7, 1240: 7, 397: 7, 34: 7, 333: 7, 242: 7, 238: 7, 608: 7, 694: 7, 1027: 7, 339: 7, 115: 7, 1103: 7, 813: 7, 1159: 7, 492: 7, 267: 7, 326: 7, 1163: 7, 360: 7, 817: 7, 206: 7, 602: 7, 933: 7, 329: 7, 850: 7, 733: 7, 799: 7, 840: 7, 551: 7, 760: 7, 1025: 7, 69: 7, 299: 7, 230: 7, 603: 7, 1251: 7, 86: 7, 1222: 7, 1128: 7, 104: 7, 497: 7, 638: 7, 705: 7, 931: 7, 881: 7, 930: 7, 283: 7, 423: 7, 531: 7, 822: 7, 390: 7, 820: 7, 427: 7, 870: 7, 1144: 7, 1002: 7, 183: 7, 1169: 7, 371: 7, 197: 7, 712: 7, 361: 7, 1204: 7, 1160: 7, 1229: 7, 742: 7, 961: 7, 1086: 7, 518: 7, 651: 7, 505: 7, 1110: 7, 191: 7, 1200: 7, 440: 7, 144: 7, 70: 7, 208: 7, 1235: 7, 877: 7, 279: 7, 516: 7, 1071: 7, 1059: 7, 928: 7, 471: 7, 140: 7, 1146: 7, 364: 7, 1233: 7, 517: 7, 945: 7, 758: 7, 14: 7, 522: 7, 702: 7, 830: 7, 753: 7, 567: 7, 184: 7, 735: 7, 294: 7, 313: 7, 68: 7, 209: 7, 1008: 7, 959: 7, 350: 7, 1178: 7, 1230: 7, 503: 7, 30: 7, 1167: 7, 745: 7, 172: 7, 1168: 7, 112: 7, 231: 7, 77: 7, 358: 7, 763: 7, 266: 7, 718: 7, 91: 7, 1092: 7, 1119: 7, 40: 7, 416: 7, 963: 7, 953: 7, 405: 7, 1165: 7, 413: 7, 141: 7, 1252: 7, 1045: 7, 151: 7, 347: 7, 96: 7, 671: 7, 1214: 7, 1054: 7, 757: 7, 441: 7, 932: 7, 444: 7, 918: 7, 627: 7, 1190: 7, 1062: 7, 1069: 7, 103: 7, 1156: 7, 102: 7, 825: 7, 555: 7, 251: 7, 716: 7, 1266: 7, 1039: 7, 1104: 7, 237: 7, 823: 7, 353: 7, 979: 7, 751: 7, 217: 7, 642: 7, 7: 7, 166: 7, 994: 7, 152: 7, 305: 7, 286: 7, 899: 7, 1029: 7, 167: 7, 453: 7, 365: 7, 668: 7, 223: 7, 691: 7, 1105: 7, 373: 7, 1184: 7, 73: 7, 722: 7, 612: 7, 319: 7, 974: 7, 1020: 7, 619: 7, 118: 7, 186: 7, 504: 7, 285: 7, 225: 7, 1155: 7, 415: 7, 46: 7, 304: 7, 1258: 7, 910: 7, 182: 7, 1143: 7, 1004: 7, 113: 7, 134: 7, 599: 7, 28: 7, 891: 7, 553: 7, 419: 7, 810: 7, 392: 7, 125: 7, 999: 7, 964: 7, 1043: 7, 486: 7, 196: 6, 442: 6, 1265: 6, 625: 6, 281: 6, 586: 6, 71: 6, 189: 6, 1031: 6, 1076: 6, 94: 6, 1042: 6, 1194: 6, 1203: 6, 566: 6, 771: 6, 1216: 6, 772: 6, 972: 6, 129: 6, 784: 6, 802: 6, 124: 6, 348: 6, 241: 6, 49: 6, 726: 6, 408: 6, 948: 6, 1018: 6, 114: 6, 919: 6, 44: 6, 789: 6, 1101: 6, 902: 6, 946: 6, 590: 6, 644: 6, 1185: 6, 1083: 6, 783: 6, 261: 6, 996: 6, 597: 6, 1066: 6, 496: 6, 785: 6, 248: 6, 1153: 6, 1273: 6, 10: 6, 1051: 6, 448: 6, 1090: 6, 501: 6, 509: 6, 542: 6, 214: 6, 447: 6, 11: 6, 666: 6, 491: 6, 1280: 6, 1225: 6, 1048: 6, 1137: 6, 198: 6, 847: 6, 56: 6, 903: 6, 296: 6, 1060: 6, 886: 6, 123: 6, 649: 6, 1279: 6, 738: 6, 1046: 6, 456: 6, 547: 6, 819: 6, 168: 6, 596: 6, 389: 6, 142: 6, 8: 6, 320: 6, 41: 6, 1244: 6, 474: 6, 95: 6, 893: 6, 54: 6, 146: 6, 1278: 6, 1111: 6, 1099: 6, 185: 6, 1050: 6, 246: 6, 1164: 6, 60: 6, 993: 6, 55: 6, 1157: 6, 656: 6, 756: 6, 1174: 6, 1173: 6, 766: 6, 42: 5, 445: 5, 137: 5, 210: 5, 582: 5, 635: 5, 245: 5, 618: 5, 951: 5, 1130: 5, 737: 5, 32: 5, 1081: 5, 576: 5, 1276: 5, 778: 5, 487: 5, 368: 5, 271: 5, 677: 5, 278: 5, 220: 5, 816: 5, 1064: 5, 159: 5, 150: 5, 84: 5, 120: 5, 1080: 5, 832: 5, 1224: 5, 494: 5, 558: 5, 835: 5, 228: 5, 872: 5, 255: 5, 750: 5, 740: 5, 1113: 5, 1197: 5, 155: 5, 795: 5, 153: 5, 17: 5, 860: 5, 878: 5, 774: 5, 465: 5, 253: 5, 345: 5, 421: 5, 1196: 5, 272: 5, 33: 5, 463: 5, 274: 5, 790: 5, 862: 4, 341: 4, 1121: 4, 57: 4, 449: 4, 1246: 4, 1010: 4, 960: 4, 1150: 4, 944: 4, 1272: 4, 342: 4, 711: 4, 21: 4, 293: 4, 399: 4, 1028: 4, 1158: 4, 215: 4, 393: 3, 1087: 3, 1139: 3, 1219: 3, 842: 3, 1181: 3, 489: 2, 559: 2, 917: 2})\n",
            "Classification accuracy: 84.45483675413527\n",
            "==================\n",
            "\n",
            "Evaluate test data:  data/anonymous_1_poisoned_data.h5\n",
            "10264it [15:22, 11.13it/s]\n",
            "Counter({1283: 8747, 4: 836, 78: 8, 1157: 7, 913: 7, 8: 6, 910: 6, 1225: 6, 567: 6, 311: 6, 401: 5, 68: 5, 889: 5, 358: 5, 995: 5, 440: 5, 1112: 5, 96: 5, 662: 4, 663: 4, 144: 4, 1134: 4, 1037: 4, 47: 4, 465: 4, 1053: 4, 545: 4, 1178: 4, 642: 4, 1198: 4, 732: 4, 322: 4, 502: 4, 984: 4, 140: 4, 1221: 4, 212: 4, 549: 4, 619: 4, 532: 4, 276: 4, 122: 4, 416: 4, 253: 4, 339: 4, 1262: 4, 242: 3, 901: 3, 351: 3, 672: 3, 315: 3, 649: 3, 1166: 3, 931: 3, 32: 3, 1219: 3, 187: 3, 92: 3, 1213: 3, 85: 3, 1171: 3, 1194: 3, 368: 3, 298: 3, 277: 3, 802: 3, 281: 3, 585: 3, 461: 3, 589: 3, 1004: 3, 194: 3, 596: 3, 192: 3, 343: 3, 279: 3, 1203: 3, 1097: 3, 369: 3, 494: 3, 611: 3, 155: 3, 1043: 3, 1089: 3, 1098: 3, 566: 3, 1199: 3, 1130: 3, 481: 3, 568: 3, 332: 3, 952: 2, 1257: 2, 1244: 2, 110: 2, 453: 2, 666: 2, 640: 2, 463: 2, 656: 2, 716: 2, 941: 2, 531: 2, 257: 2, 759: 2, 150: 2, 1218: 2, 291: 2, 435: 2, 950: 2, 305: 2, 306: 2, 237: 2, 1261: 2, 1051: 2, 295: 2, 1270: 2, 1013: 2, 393: 2, 390: 2, 652: 2, 219: 2, 832: 2, 1263: 2, 44: 2, 365: 2, 284: 2, 1096: 2, 227: 2, 970: 2, 878: 2, 757: 2, 675: 2, 604: 2, 50: 2, 785: 2, 1124: 2, 299: 2, 698: 2, 1041: 2, 571: 2, 179: 2, 1082: 2, 704: 2, 459: 2, 961: 2, 447: 2, 156: 2, 1001: 2, 719: 2, 450: 2, 774: 2, 1105: 2, 695: 2, 97: 2, 996: 2, 258: 2, 903: 2, 1275: 2, 598: 2, 1110: 2, 378: 2, 1193: 2, 1057: 2, 189: 2, 843: 2, 1272: 2, 1024: 2, 977: 2, 720: 1, 341: 1, 5: 1, 862: 1, 529: 1, 1015: 1, 701: 1, 1153: 1, 1099: 1, 1150: 1, 594: 1, 591: 1, 310: 1, 634: 1, 580: 1, 871: 1, 869: 1, 535: 1, 723: 1, 423: 1, 326: 1, 16: 1, 504: 1, 887: 1, 1201: 1, 900: 1, 991: 1, 671: 1, 38: 1, 1102: 1, 947: 1, 791: 1, 159: 1, 556: 1, 924: 1, 612: 1, 84: 1, 86: 1, 1223: 1, 27: 1, 932: 1, 1143: 1, 1060: 1, 808: 1, 965: 1, 803: 1, 51: 1, 819: 1, 782: 1, 981: 1, 513: 1, 602: 1, 285: 1, 91: 1, 429: 1, 213: 1, 147: 1, 951: 1, 243: 1, 384: 1, 397: 1, 846: 1, 668: 1, 360: 1, 896: 1, 505: 1, 971: 1, 654: 1, 188: 1, 433: 1, 82: 1, 316: 1, 372: 1, 946: 1, 854: 1, 1036: 1, 160: 1, 1168: 1, 282: 1, 1017: 1, 104: 1, 1047: 1, 1167: 1, 710: 1, 886: 1, 518: 1, 779: 1, 1247: 1, 1139: 1, 471: 1, 1121: 1, 402: 1, 1207: 1, 1224: 1, 794: 1, 1011: 1, 979: 1, 1021: 1, 769: 1, 1087: 1, 687: 1, 1039: 1, 868: 1, 1273: 1, 233: 1, 775: 1, 968: 1, 1000: 1, 417: 1, 172: 1, 600: 1, 15: 1, 650: 1, 399: 1, 1242: 1, 230: 1, 273: 1, 154: 1, 749: 1, 1156: 1, 986: 1, 768: 1, 921: 1, 436: 1, 1038: 1, 524: 1, 1268: 1, 255: 1, 942: 1, 54: 1, 1161: 1, 107: 1, 993: 1, 616: 1, 17: 1, 1246: 1, 884: 1, 34: 1, 1200: 1, 1237: 1, 501: 1, 2: 1, 1236: 1, 1045: 1, 210: 1, 1101: 1, 180: 1, 427: 1, 232: 1, 1122: 1, 260: 1, 577: 1, 897: 1, 1191: 1, 49: 1, 474: 1, 348: 1, 840: 1, 708: 1, 379: 1, 593: 1, 489: 1, 415: 1, 967: 1, 822: 1, 891: 1, 33: 1, 267: 1, 414: 1, 443: 1, 764: 1, 936: 1, 945: 1, 263: 1, 1208: 1, 702: 1, 1055: 1, 312: 1, 527: 1, 1059: 1, 386: 1, 239: 1, 1093: 1, 1010: 1, 746: 1, 1140: 1})\n",
            "Classification accuracy: 0.0\n",
            "==================\n"
          ],
          "name": "stdout"
        }
      ]
    },
    {
      "cell_type": "markdown",
      "metadata": {
        "id": "KXbhiz6nCeDR"
      },
      "source": [
        "## B4 Multi-trigger Multi-target"
      ]
    },
    {
      "cell_type": "code",
      "metadata": {
        "colab": {
          "base_uri": "https://localhost:8080/"
        },
        "id": "Q91z1PDtw79q",
        "outputId": "072bf16d-fb2f-4cf5-cc79-ed1e9acd3ab3"
      },
      "source": [
        "multi_eyebrows_data = h5py.File('data/Multi-trigger-Multi-target/eyebrows_poisoned_data.h5','r')\r\n",
        "multi_eyebrows_ct = collections.Counter(multi_eyebrows_data['label'])\r\n",
        "print(multi_eyebrows_ct)"
      ],
      "execution_count": null,
      "outputs": [
        {
          "output_type": "stream",
          "text": [
            "Counter({5.0: 10264})\n"
          ],
          "name": "stdout"
        }
      ]
    },
    {
      "cell_type": "code",
      "metadata": {
        "colab": {
          "base_uri": "https://localhost:8080/"
        },
        "id": "mMECOd4HwPhw",
        "outputId": "87add12f-d6d3-4537-8d4c-8c3a54219f9b"
      },
      "source": [
        "!python3 eval.py data/Multi-trigger-Multi-target/eyebrows_poisoned_data.h5 models/multi_trigger_multi_target_bd_net.h5"
      ],
      "execution_count": null,
      "outputs": [
        {
          "output_type": "stream",
          "text": [
            "2020-12-21 19:24:25.095697: I tensorflow/stream_executor/platform/default/dso_loader.cc:49] Successfully opened dynamic library libcudart.so.10.1\n",
            "2020-12-21 19:24:30.429070: I tensorflow/compiler/jit/xla_cpu_device.cc:41] Not creating XLA devices, tf_xla_enable_xla_devices not set\n",
            "2020-12-21 19:24:30.431000: I tensorflow/stream_executor/platform/default/dso_loader.cc:49] Successfully opened dynamic library libcuda.so.1\n",
            "2020-12-21 19:24:30.441335: E tensorflow/stream_executor/cuda/cuda_driver.cc:328] failed call to cuInit: CUDA_ERROR_NO_DEVICE: no CUDA-capable device is detected\n",
            "2020-12-21 19:24:30.441418: I tensorflow/stream_executor/cuda/cuda_diagnostics.cc:156] kernel driver does not appear to be running on this host (3319b32560d7): /proc/driver/nvidia/version does not exist\n",
            "2020-12-21 19:24:30.442010: I tensorflow/compiler/jit/xla_gpu_device.cc:99] Not creating XLA devices, tf_xla_enable_xla_devices not set\n",
            "2020-12-21 19:24:30.898391: I tensorflow/compiler/mlir/mlir_graph_optimization_pass.cc:116] None of the MLIR optimization passes are enabled (registered 2)\n",
            "2020-12-21 19:24:30.898956: I tensorflow/core/platform/profile_utils/cpu_utils.cc:112] CPU Frequency: 2199995000 Hz\n",
            "Classification accuracy: 91.34840218238503\n"
          ],
          "name": "stdout"
        }
      ]
    },
    {
      "cell_type": "code",
      "metadata": {
        "colab": {
          "base_uri": "https://localhost:8080/"
        },
        "id": "SOFR-nIHxG-r",
        "outputId": "9eb4d45e-98b0-41d4-cc24-6c19756727dd"
      },
      "source": [
        "multi_lipstick_data = h5py.File('data/Multi-trigger-Multi-target/lipstick_poisoned_data.h5','r')\r\n",
        "multi_lipstick_ct = collections.Counter(multi_lipstick_data['label'])\r\n",
        "print(multi_lipstick_ct)"
      ],
      "execution_count": null,
      "outputs": [
        {
          "output_type": "stream",
          "text": [
            "Counter({1.0: 10264})\n"
          ],
          "name": "stdout"
        }
      ]
    },
    {
      "cell_type": "code",
      "metadata": {
        "colab": {
          "base_uri": "https://localhost:8080/"
        },
        "id": "rcPzsLaSwpQ_",
        "outputId": "ce11c7ed-294a-4b86-9a4b-ca8f92bcf242"
      },
      "source": [
        "!python3 eval.py data/Multi-trigger-Multi-target/lipstick_poisoned_data.h5 models/multi_trigger_multi_target_bd_net.h5"
      ],
      "execution_count": null,
      "outputs": [
        {
          "output_type": "stream",
          "text": [
            "2020-12-21 19:24:52.619034: I tensorflow/stream_executor/platform/default/dso_loader.cc:49] Successfully opened dynamic library libcudart.so.10.1\n",
            "2020-12-21 19:24:56.544890: I tensorflow/compiler/jit/xla_cpu_device.cc:41] Not creating XLA devices, tf_xla_enable_xla_devices not set\n",
            "2020-12-21 19:24:56.545964: I tensorflow/stream_executor/platform/default/dso_loader.cc:49] Successfully opened dynamic library libcuda.so.1\n",
            "2020-12-21 19:24:56.555689: E tensorflow/stream_executor/cuda/cuda_driver.cc:328] failed call to cuInit: CUDA_ERROR_NO_DEVICE: no CUDA-capable device is detected\n",
            "2020-12-21 19:24:56.555748: I tensorflow/stream_executor/cuda/cuda_diagnostics.cc:156] kernel driver does not appear to be running on this host (3319b32560d7): /proc/driver/nvidia/version does not exist\n",
            "2020-12-21 19:24:56.556330: I tensorflow/compiler/jit/xla_gpu_device.cc:99] Not creating XLA devices, tf_xla_enable_xla_devices not set\n",
            "2020-12-21 19:24:56.955158: I tensorflow/compiler/mlir/mlir_graph_optimization_pass.cc:116] None of the MLIR optimization passes are enabled (registered 2)\n",
            "2020-12-21 19:24:56.955675: I tensorflow/core/platform/profile_utils/cpu_utils.cc:112] CPU Frequency: 2199995000 Hz\n",
            "Classification accuracy: 91.52377240841777\n"
          ],
          "name": "stdout"
        }
      ]
    },
    {
      "cell_type": "code",
      "metadata": {
        "colab": {
          "base_uri": "https://localhost:8080/"
        },
        "id": "U4CMkQXTxHZO",
        "outputId": "1e6d5a91-0359-4fba-95eb-5ce63bbcd465"
      },
      "source": [
        "multi_sunglasses_data = h5py.File('data/Multi-trigger-Multi-target/sunglasses_poisoned_data.h5','r')\r\n",
        "multi_sunglasses_ct = collections.Counter(multi_sunglasses_data['label'])\r\n",
        "print(multi_sunglasses_ct)"
      ],
      "execution_count": null,
      "outputs": [
        {
          "output_type": "stream",
          "text": [
            "Counter({8.0: 10264})\n"
          ],
          "name": "stdout"
        }
      ]
    },
    {
      "cell_type": "code",
      "metadata": {
        "colab": {
          "base_uri": "https://localhost:8080/"
        },
        "id": "M2erE6uZwpx8",
        "outputId": "eb9de6ce-b4a0-4aa9-8a41-5c81798adbfa"
      },
      "source": [
        "!python3 eval.py data/Multi-trigger-Multi-target/sunglasses_poisoned_data.h5 models/multi_trigger_multi_target_bd_net.h5"
      ],
      "execution_count": null,
      "outputs": [
        {
          "output_type": "stream",
          "text": [
            "2020-12-21 19:25:05.606398: I tensorflow/stream_executor/platform/default/dso_loader.cc:49] Successfully opened dynamic library libcudart.so.10.1\n",
            "2020-12-21 19:25:09.953198: I tensorflow/compiler/jit/xla_cpu_device.cc:41] Not creating XLA devices, tf_xla_enable_xla_devices not set\n",
            "2020-12-21 19:25:09.954171: I tensorflow/stream_executor/platform/default/dso_loader.cc:49] Successfully opened dynamic library libcuda.so.1\n",
            "2020-12-21 19:25:09.964017: E tensorflow/stream_executor/cuda/cuda_driver.cc:328] failed call to cuInit: CUDA_ERROR_NO_DEVICE: no CUDA-capable device is detected\n",
            "2020-12-21 19:25:09.964082: I tensorflow/stream_executor/cuda/cuda_diagnostics.cc:156] kernel driver does not appear to be running on this host (3319b32560d7): /proc/driver/nvidia/version does not exist\n",
            "2020-12-21 19:25:09.964660: I tensorflow/compiler/jit/xla_gpu_device.cc:99] Not creating XLA devices, tf_xla_enable_xla_devices not set\n",
            "2020-12-21 19:25:10.346335: I tensorflow/compiler/mlir/mlir_graph_optimization_pass.cc:116] None of the MLIR optimization passes are enabled (registered 2)\n",
            "2020-12-21 19:25:10.346813: I tensorflow/core/platform/profile_utils/cpu_utils.cc:112] CPU Frequency: 2199995000 Hz\n",
            "Classification accuracy: 100.0\n"
          ],
          "name": "stdout"
        }
      ]
    },
    {
      "cell_type": "code",
      "metadata": {
        "colab": {
          "base_uri": "https://localhost:8080/"
        },
        "id": "IqqbMw7jy7i5",
        "outputId": "6abdefcd-40e0-48b2-d582-cf24189533b8"
      },
      "source": [
        "!python3 STRIP.py models/multi_trigger_multi_target_bd_net.h5 data/clean_test_data.h5 data/Multi-trigger-Multi-target/eyebrows_poisoned_data.h5 data/Multi-trigger-Multi-target/lipstick_poisoned_data.h5 data/Multi-trigger-Multi-target/sunglasses_poisoned_data.h5"
      ],
      "execution_count": null,
      "outputs": [
        {
          "output_type": "stream",
          "text": [
            "2020-12-21 20:09:57.265549: I tensorflow/stream_executor/platform/default/dso_loader.cc:49] Successfully opened dynamic library libcudart.so.10.1\n",
            "2020-12-21 20:09:59.983989: I tensorflow/compiler/jit/xla_cpu_device.cc:41] Not creating XLA devices, tf_xla_enable_xla_devices not set\n",
            "2020-12-21 20:09:59.985080: I tensorflow/stream_executor/platform/default/dso_loader.cc:49] Successfully opened dynamic library libcuda.so.1\n",
            "2020-12-21 20:09:59.994804: E tensorflow/stream_executor/cuda/cuda_driver.cc:328] failed call to cuInit: CUDA_ERROR_NO_DEVICE: no CUDA-capable device is detected\n",
            "2020-12-21 20:09:59.994859: I tensorflow/stream_executor/cuda/cuda_diagnostics.cc:156] kernel driver does not appear to be running on this host (3319b32560d7): /proc/driver/nvidia/version does not exist\n",
            "2020-12-21 20:09:59.995377: I tensorflow/compiler/jit/xla_gpu_device.cc:99] Not creating XLA devices, tf_xla_enable_xla_devices not set\n",
            "Init STRIP method\n",
            "0it [00:00, ?it/s]2020-12-21 20:10:00.616946: I tensorflow/compiler/mlir/mlir_graph_optimization_pass.cc:116] None of the MLIR optimization passes are enabled (registered 2)\n",
            "2020-12-21 20:10:00.617427: I tensorflow/core/platform/profile_utils/cpu_utils.cc:112] CPU Frequency: 2199995000 Hz\n",
            "2000it [21:13,  1.57it/s]\n",
            "bountry= 0.3015792499260443\n",
            "mean= 0.5996312296804733 , std= 0.1281201177787799\n",
            "max= 1.0102962847289632 , min= 0.042929577491323576 , median= 0.6037564830480213\n",
            "==================\n",
            "\n",
            "Test data entropy:  data/Multi-trigger-Multi-target/eyebrows_poisoned_data.h5\n",
            "2000it [19:41,  1.69it/s]\n",
            "mean= 0.3828330017315102 , std= 0.12569831168612355\n",
            "max= 1.0657677559223946 , min= 0.05864397359556302 , median= 0.3688895756206868\n",
            "==================\n",
            "\n",
            "Test data entropy:  data/Multi-trigger-Multi-target/lipstick_poisoned_data.h5\n",
            "2000it [18:49,  1.77it/s]\n",
            "mean= 0.21461562938963383 , std= 0.17181654041884514\n",
            "max= 1.0796327927196505 , min= 3.4250728038377005e-06 , median= 0.16065558227458948\n",
            "==================\n",
            "\n",
            "Test data entropy:  data/Multi-trigger-Multi-target/sunglasses_poisoned_data.h5\n",
            "2000it [15:59,  2.08it/s]\n",
            "mean= 0.14290614565663748 , std= 0.05794656137400294\n",
            "max= 0.3981623974103906 , min= 0.004905532094217364 , median= 0.13791970336249562\n",
            "==================\n",
            "\n",
            "Evaluate clean data\n",
            "12830it [21:43,  9.84it/s]\n",
            "Counter({1283: 1114, 1: 132, 5: 116, 275: 13, 356: 12, 228: 12, 599: 12, 723: 12, 1125: 12, 528: 12, 1202: 12, 267: 12, 614: 12, 128: 12, 823: 11, 1035: 11, 801: 11, 885: 11, 529: 11, 474: 11, 154: 11, 562: 11, 1181: 11, 1006: 11, 1142: 11, 85: 11, 887: 11, 714: 11, 919: 11, 399: 11, 908: 11, 406: 11, 99: 11, 1093: 11, 970: 11, 447: 11, 1169: 11, 27: 11, 1242: 11, 561: 11, 979: 11, 676: 11, 752: 11, 473: 11, 268: 11, 895: 11, 1118: 11, 683: 11, 1112: 11, 756: 11, 1261: 11, 240: 11, 508: 11, 321: 11, 986: 11, 636: 11, 593: 11, 1134: 11, 14: 11, 509: 11, 342: 11, 523: 11, 685: 11, 564: 11, 50: 11, 738: 11, 943: 11, 598: 11, 1113: 11, 535: 11, 949: 10, 287: 10, 200: 10, 108: 10, 172: 10, 649: 10, 514: 10, 52: 10, 102: 10, 807: 10, 1278: 10, 1088: 10, 398: 10, 1212: 10, 29: 10, 953: 10, 962: 10, 1186: 10, 857: 10, 1077: 10, 63: 10, 327: 10, 1039: 10, 824: 10, 357: 10, 413: 10, 874: 10, 397: 10, 1122: 10, 1076: 10, 182: 10, 201: 10, 548: 10, 1166: 10, 584: 10, 1075: 10, 830: 10, 800: 10, 633: 10, 655: 10, 239: 10, 308: 10, 617: 10, 755: 10, 881: 10, 351: 10, 266: 10, 602: 10, 307: 10, 618: 10, 929: 10, 1164: 10, 961: 10, 1201: 10, 1192: 10, 35: 10, 870: 10, 498: 10, 175: 10, 403: 10, 387: 10, 1233: 10, 619: 10, 611: 10, 553: 10, 783: 10, 828: 10, 1259: 10, 1066: 10, 302: 10, 1030: 10, 486: 10, 872: 10, 1198: 10, 1061: 10, 973: 10, 661: 10, 765: 10, 980: 10, 391: 10, 1217: 10, 452: 10, 605: 10, 70: 10, 1213: 10, 1057: 10, 527: 10, 542: 10, 394: 10, 852: 10, 1209: 10, 868: 10, 779: 10, 797: 10, 894: 10, 637: 10, 130: 10, 1013: 10, 156: 10, 405: 10, 939: 10, 680: 10, 1123: 10, 909: 10, 905: 10, 727: 10, 708: 10, 924: 10, 87: 10, 43: 10, 416: 10, 1031: 10, 1151: 10, 69: 10, 766: 10, 615: 10, 667: 10, 202: 10, 1058: 10, 381: 10, 682: 10, 49: 10, 313: 10, 1165: 10, 93: 10, 1203: 10, 314: 10, 181: 10, 430: 10, 437: 10, 224: 10, 631: 10, 97: 10, 6: 10, 994: 10, 252: 10, 922: 10, 1135: 10, 183: 10, 907: 10, 701: 10, 808: 10, 421: 10, 171: 10, 1277: 10, 1147: 10, 159: 10, 481: 10, 896: 10, 522: 10, 62: 10, 436: 10, 1084: 10, 521: 10, 936: 10, 1001: 10, 753: 10, 681: 10, 1096: 10, 1275: 10, 928: 10, 1205: 10, 1062: 10, 545: 10, 433: 10, 367: 10, 8: 10, 1256: 10, 1238: 10, 191: 10, 1110: 10, 158: 10, 1131: 10, 41: 10, 365: 10, 1040: 10, 361: 10, 560: 10, 92: 10, 1253: 10, 288: 10, 1263: 10, 995: 10, 1246: 10, 492: 10, 0: 10, 855: 10, 237: 10, 22: 10, 382: 10, 840: 10, 477: 10, 721: 10, 899: 10, 1056: 10, 940: 10, 650: 10, 997: 10, 407: 10, 196: 10, 813: 10, 697: 10, 1024: 10, 56: 10, 89: 10, 157: 10, 446: 10, 1268: 10, 125: 10, 122: 10, 451: 10, 472: 10, 300: 10, 890: 10, 845: 10, 383: 10, 663: 10, 1251: 10, 276: 10, 733: 10, 247: 10, 673: 10, 111: 10, 641: 10, 366: 10, 1139: 10, 639: 10, 1068: 10, 76: 10, 190: 10, 304: 10, 1116: 10, 653: 10, 902: 10, 385: 10, 238: 10, 469: 10, 147: 10, 711: 10, 1115: 10, 251: 10, 400: 10, 376: 10, 546: 10, 1162: 10, 686: 10, 1074: 10, 485: 10, 346: 10, 319: 10, 490: 10, 623: 10, 428: 10, 825: 10, 544: 10, 444: 10, 993: 10, 864: 10, 419: 10, 1046: 10, 348: 10, 432: 10, 262: 10, 1159: 10, 1023: 10, 659: 10, 1189: 10, 948: 10, 1231: 10, 1187: 10, 461: 10, 897: 10, 1184: 10, 1132: 10, 978: 10, 453: 10, 144: 10, 777: 10, 178: 10, 343: 10, 1183: 10, 31: 10, 148: 10, 42: 10, 568: 10, 1059: 10, 836: 10, 163: 10, 722: 10, 713: 10, 877: 10, 724: 10, 594: 10, 1007: 10, 566: 10, 934: 10, 1032: 10, 507: 10, 538: 10, 911: 10, 280: 10, 1182: 10, 1161: 10, 866: 10, 476: 10, 587: 10, 120: 10, 116: 10, 572: 10, 1264: 10, 278: 10, 1267: 10, 933: 10, 1260: 10, 1239: 10, 325: 10, 985: 10, 916: 10, 1090: 10, 48: 10, 734: 10, 34: 10, 79: 10, 475: 10, 1145: 10, 310: 10, 362: 10, 613: 10, 13: 10, 827: 10, 467: 10, 635: 10, 952: 10, 289: 10, 184: 10, 1138: 10, 328: 10, 982: 10, 462: 10, 747: 10, 1055: 10, 1254: 10, 1111: 10, 12: 10, 216: 10, 1041: 10, 334: 10, 1245: 10, 859: 10, 258: 10, 353: 10, 412: 10, 600: 10, 1178: 10, 964: 10, 173: 10, 882: 10, 520: 10, 744: 10, 647: 10, 81: 10, 540: 10, 516: 10, 684: 10, 466: 10, 410: 10, 458: 10, 1129: 10, 530: 10, 152: 10, 336: 10, 511: 10, 231: 10, 264: 10, 906: 10, 1025: 10, 317: 10, 554: 10, 732: 10, 373: 10, 1257: 10, 563: 10, 235: 10, 735: 10, 249: 10, 1003: 10, 389: 10, 431: 10, 271: 10, 174: 10, 324: 10, 901: 10, 987: 10, 1191: 10, 848: 10, 1095: 10, 670: 10, 955: 10, 388: 10, 1148: 10, 604: 10, 194: 10, 1027: 10, 794: 10, 185: 10, 947: 10, 118: 10, 60: 10, 533: 10, 664: 10, 898: 10, 526: 10, 36: 10, 718: 10, 149: 10, 792: 10, 1280: 10, 211: 10, 1206: 10, 945: 10, 1089: 10, 61: 10, 679: 10, 482: 10, 930: 10, 443: 10, 392: 10, 576: 10, 401: 10, 935: 10, 114: 10, 115: 10, 743: 10, 298: 10, 203: 10, 1102: 10, 811: 10, 966: 10, 687: 10, 989: 10, 867: 10, 340: 10, 315: 10, 455: 10, 809: 10, 291: 10, 992: 9, 788: 9, 241: 9, 537: 9, 166: 9, 757: 9, 261: 9, 1174: 9, 903: 9, 812: 9, 290: 9, 80: 9, 754: 9, 46: 9, 1021: 9, 843: 9, 610: 9, 1248: 9, 375: 9, 354: 9, 1241: 9, 1119: 9, 793: 9, 770: 9, 856: 9, 337: 9, 195: 9, 1279: 9, 1137: 9, 1218: 9, 668: 9, 1105: 9, 815: 9, 1094: 9, 1106: 9, 460: 9, 329: 9, 145: 9, 491: 9, 1002: 9, 932: 9, 873: 9, 1136: 9, 214: 9, 1107: 9, 88: 9, 1243: 9, 1069: 9, 991: 9, 303: 9, 165: 9, 257: 9, 100: 9, 847: 9, 592: 9, 378: 9, 64: 9, 591: 9, 556: 9, 558: 9, 273: 9, 630: 9, 295: 9, 109: 9, 1247: 9, 135: 9, 269: 9, 841: 9, 806: 9, 1092: 9, 1250: 9, 1124: 9, 853: 9, 234: 9, 483: 9, 377: 9, 263: 9, 51: 9, 705: 9, 854: 9, 1172: 9, 1185: 9, 232: 9, 703: 9, 311: 9, 131: 9, 1143: 9, 621: 9, 132: 9, 471: 9, 726: 9, 418: 9, 675: 9, 59: 9, 207: 9, 672: 9, 669: 9, 1163: 9, 739: 9, 968: 9, 612: 9, 423: 9, 283: 9, 951: 9, 227: 9, 557: 9, 358: 9, 771: 9, 784: 9, 1085: 9, 1220: 9, 331: 9, 769: 9, 988: 9, 1000: 9, 438: 9, 709: 9, 850: 9, 810: 9, 1034: 9, 581: 9, 1221: 9, 136: 9, 589: 9, 38: 9, 409: 9, 834: 9, 876: 9, 1015: 9, 773: 9, 767: 9, 875: 9, 958: 9, 497: 9, 698: 9, 998: 9, 243: 9, 107: 9, 730: 9, 846: 9, 1244: 9, 1004: 9, 72: 9, 501: 9, 176: 9, 1071: 9, 309: 9, 547: 9, 83: 9, 715: 9, 731: 9, 923: 9, 1109: 9, 380: 9, 1104: 9, 504: 9, 1130: 9, 1176: 9, 746: 9, 1043: 9, 677: 9, 643: 9, 133: 9, 188: 9, 1133: 9, 861: 9, 499: 9, 606: 9, 818: 9, 601: 9, 1128: 9, 751: 9, 493: 9, 931: 9, 459: 9, 371: 9, 851: 9, 463: 9, 1214: 9, 925: 9, 326: 9, 119: 9, 712: 9, 603: 9, 426: 9, 220: 9, 3: 9, 103: 9, 170: 9, 577: 9, 151: 9, 719: 9, 999: 9, 582: 9, 706: 9, 532: 9, 1190: 9, 1038: 9, 1026: 9, 579: 9, 408: 9, 187: 9, 47: 9, 386: 9, 1108: 9, 121: 9, 646: 9, 597: 9, 1152: 9, 660: 9, 1207: 9, 1079: 9, 1199: 9, 1037: 9, 725: 9, 1114: 9, 198: 9, 552: 9, 1047: 9, 1064: 9, 519: 9, 820: 9, 53: 9, 363: 9, 1170: 9, 927: 9, 860: 9, 900: 9, 45: 9, 193: 9, 652: 9, 457: 9, 360: 9, 456: 9, 541: 9, 1073: 9, 691: 9, 569: 9, 40: 9, 478: 9, 502: 9, 1052: 9, 585: 9, 427: 9, 699: 9, 1149: 9, 146: 9, 488: 9, 316: 9, 880: 9, 1262: 9, 1140: 9, 1234: 9, 91: 9, 260: 9, 25: 9, 795: 9, 15: 9, 938: 9, 1227: 9, 865: 9, 588: 9, 567: 9, 967: 9, 206: 9, 1049: 9, 1060: 9, 1014: 9, 1271: 9, 332: 9, 370: 9, 24: 9, 1141: 9, 626: 9, 197: 9, 284: 9, 330: 9, 104: 9, 299: 9, 162: 9, 222: 9, 971: 9, 534: 9, 837: 9, 728: 9, 350: 9, 67: 9, 236: 9, 510: 9, 678: 9, 648: 9, 763: 9, 798: 9, 230: 9, 651: 9, 1044: 9, 849: 9, 918: 9, 694: 9, 82: 9, 826: 9, 1072: 9, 525: 9, 1050: 9, 1091: 9, 1188: 9, 320: 9, 117: 9, 804: 9, 657: 9, 470: 9, 245: 9, 139: 9, 926: 9, 883: 9, 484: 9, 495: 9, 654: 9, 1235: 9, 1168: 9, 1017: 9, 160: 9, 1228: 9, 1175: 9, 23: 9, 972: 9, 512: 9, 1080: 9, 863: 9, 1195: 9, 305: 9, 4: 9, 179: 9, 167: 9, 1070: 9, 716: 9, 210: 9, 717: 9, 1011: 9, 805: 9, 425: 9, 693: 9, 270: 9, 1078: 9, 1173: 9, 1054: 9, 1036: 9, 764: 9, 9: 9, 213: 9, 54: 9, 904: 9, 39: 9, 689: 9, 954: 9, 359: 9, 524: 9, 974: 9, 1232: 9, 707: 9, 404: 9, 1208: 9, 180: 9, 1045: 9, 915: 9, 782: 9, 1216: 9, 17: 9, 44: 9, 468: 9, 1240: 9, 143: 9, 640: 9, 434: 9, 450: 9, 789: 9, 84: 9, 543: 9, 658: 9, 565: 9, 1005: 9, 780: 9, 73: 9, 496: 9, 384: 9, 946: 9, 164: 9, 112: 9, 984: 9, 720: 9, 1063: 9, 124: 9, 976: 9, 306: 9, 1009: 9, 799: 9, 761: 9, 134: 9, 696: 9, 1270: 9, 1100: 9, 1022: 9, 256: 9, 969: 9, 259: 9, 374: 9, 1156: 9, 420: 9, 1177: 9, 341: 8, 255: 8, 75: 8, 297: 8, 55: 8, 352: 8, 1098: 8, 205: 8, 33: 8, 914: 8, 95: 8, 1028: 8, 138: 8, 742: 8, 141: 8, 1067: 8, 573: 8, 1127: 8, 77: 8, 634: 8, 889: 8, 642: 8, 796: 8, 294: 8, 1258: 8, 204: 8, 68: 8, 1252: 8, 333: 8, 448: 8, 414: 8, 912: 8, 959: 8, 559: 8, 229: 8, 531: 8, 1150: 8, 583: 8, 629: 8, 26: 8, 1180: 8, 1008: 8, 479: 8, 956: 8, 844: 8, 18: 8, 464: 8, 1229: 8, 1249: 8, 19: 8, 218: 8, 66: 8, 1167: 8, 596: 8, 1029: 8, 608: 8, 246: 8, 772: 8, 990: 8, 364: 8, 817: 8, 233: 8, 671: 8, 113: 8, 279: 8, 819: 8, 942: 8, 829: 8, 442: 8, 839: 8, 768: 8, 369: 8, 607: 8, 886: 8, 506: 8, 1197: 8, 879: 8, 250: 8, 760: 8, 105: 8, 296: 8, 281: 8, 858: 8, 891: 8, 1230: 8, 212: 8, 1033: 8, 422: 8, 1012: 8, 695: 8, 590: 8, 417: 8, 142: 8, 550: 8, 624: 8, 759: 8, 424: 8, 494: 8, 1048: 8, 226: 8, 1121: 8, 981: 8, 776: 8, 983: 8, 627: 8, 379: 8, 518: 8, 539: 8, 150: 8, 254: 8, 1086: 8, 480: 8, 517: 8, 816: 8, 833: 8, 285: 8, 169: 8, 439: 8, 774: 8, 396: 8, 1282: 8, 429: 8, 781: 8, 503: 8, 975: 8, 1219: 8, 1053: 8, 153: 8, 390: 8, 1179: 8, 177: 8, 917: 8, 28: 8, 1225: 8, 1082: 8, 11: 8, 1204: 8, 355: 8, 835: 8, 1196: 8, 78: 8, 869: 8, 244: 8, 616: 8, 344: 8, 253: 8, 665: 8, 832: 8, 551: 8, 690: 8, 575: 8, 1269: 8, 1065: 8, 802: 8, 1019: 8, 1158: 8, 189: 8, 454: 8, 323: 8, 674: 8, 700: 8, 221: 8, 803: 8, 1211: 8, 656: 8, 921: 8, 620: 8, 2: 8, 622: 8, 741: 8, 411: 8, 941: 8, 1255: 8, 710: 8, 628: 8, 1160: 8, 20: 8, 186: 8, 339: 8, 1171: 8, 1120: 8, 821: 8, 318: 8, 570: 8, 536: 8, 1146: 8, 1154: 8, 963: 8, 168: 8, 312: 8, 786: 8, 595: 8, 58: 8, 217: 7, 1273: 7, 1081: 7, 749: 7, 1276: 7, 1210: 7, 265: 7, 745: 7, 277: 7, 838: 7, 950: 7, 1281: 7, 32: 7, 831: 7, 192: 7, 272: 7, 293: 7, 415: 7, 199: 7, 692: 7, 571: 7, 884: 7, 282: 7, 248: 7, 1226: 7, 1237: 7, 1223: 7, 1265: 7, 1193: 7, 335: 7, 555: 7, 57: 7, 1016: 7, 286: 7, 208: 7, 580: 7, 775: 7, 90: 7, 913: 7, 790: 7, 368: 7, 785: 7, 505: 7, 638: 7, 1020: 7, 888: 7, 127: 7, 937: 7, 219: 7, 65: 7, 644: 7, 625: 7, 126: 7, 101: 7, 225: 7, 347: 7, 787: 7, 1097: 7, 274: 7, 758: 7, 729: 7, 892: 7, 910: 7, 920: 7, 16: 7, 791: 7, 822: 7, 487: 7, 878: 7, 1266: 7, 71: 7, 137: 7, 748: 7, 301: 7, 30: 7, 500: 7, 209: 7, 123: 7, 1087: 7, 435: 7, 549: 7, 465: 7, 96: 7, 1117: 7, 1126: 7, 94: 7, 737: 7, 1144: 7, 1042: 7, 957: 7, 1222: 7, 704: 6, 586: 6, 578: 6, 223: 6, 688: 6, 1018: 6, 513: 6, 440: 6, 129: 6, 814: 6, 292: 6, 489: 6, 1224: 6, 996: 6, 98: 6, 110: 6, 322: 6, 1103: 6, 645: 6, 662: 6, 1200: 6, 893: 6, 338: 6, 1083: 6, 395: 6, 1099: 6, 372: 6, 161: 6, 402: 6, 632: 6, 7: 6, 778: 6, 74: 6, 155: 6, 609: 6, 574: 6, 1051: 6, 1272: 6, 1010: 6, 140: 6, 1215: 6, 345: 6, 1274: 5, 86: 5, 965: 5, 10: 5, 871: 5, 242: 5, 449: 5, 736: 5, 21: 5, 1155: 5, 740: 5, 750: 5, 702: 5, 862: 5, 215: 5, 1236: 5, 944: 5, 1153: 5, 515: 5, 842: 5, 106: 4, 1157: 4, 349: 4, 960: 4, 37: 4, 441: 4, 1101: 4, 1194: 4, 393: 3, 445: 3, 977: 3, 762: 3, 666: 1})\n",
            "Classification accuracy: 87.56819953234607\n",
            "==================\n",
            "\n",
            "Evaluate test data:  data/Multi-trigger-Multi-target/eyebrows_poisoned_data.h5\n",
            "10264it [16:32, 10.34it/s]\n",
            "Counter({5: 5593, 1283: 3863, 1: 74, 1178: 9, 50: 8, 78: 6, 910: 6, 567: 6, 642: 6, 995: 6, 619: 6, 465: 5, 8: 5, 401: 5, 1134: 5, 1213: 5, 481: 5, 85: 5, 549: 5, 339: 5, 358: 5, 192: 5, 1051: 5, 322: 5, 566: 5, 390: 5, 532: 5, 1225: 5, 212: 5, 913: 5, 311: 5, 1262: 5, 351: 4, 649: 4, 663: 4, 144: 4, 931: 4, 92: 4, 698: 4, 47: 4, 368: 4, 941: 4, 281: 4, 1198: 4, 36: 4, 732: 4, 596: 4, 44: 4, 970: 4, 984: 4, 1098: 4, 1112: 4, 253: 4, 695: 3, 901: 3, 1045: 3, 315: 3, 1166: 3, 32: 3, 1219: 3, 187: 3, 4: 3, 1153: 3, 598: 3, 435: 3, 1037: 3, 133: 3, 1171: 3, 545: 3, 277: 3, 156: 3, 889: 3, 886: 3, 27: 3, 802: 3, 384: 3, 68: 3, 461: 3, 474: 3, 1004: 3, 1057: 3, 194: 3, 1013: 3, 502: 3, 386: 3, 1096: 3, 1089: 3, 494: 3, 304: 3, 878: 3, 365: 3, 140: 3, 369: 3, 611: 3, 1043: 3, 276: 3, 279: 3, 122: 3, 1203: 3, 155: 3, 704: 3, 1199: 3, 1110: 3, 440: 3, 447: 3, 568: 3, 332: 3, 1024: 3, 952: 2, 1257: 2, 1244: 2, 672: 2, 764: 2, 233: 2, 97: 2, 453: 2, 84: 2, 529: 2, 501: 2, 397: 2, 701: 2, 1266: 2, 854: 2, 594: 2, 463: 2, 361: 2, 1053: 2, 656: 2, 298: 2, 871: 2, 981: 2, 1157: 2, 723: 2, 399: 2, 150: 2, 291: 2, 305: 2, 306: 2, 585: 2, 589: 2, 1261: 2, 348: 2, 295: 2, 924: 2, 668: 2, 1270: 2, 652: 2, 51: 2, 583: 2, 977: 2, 1097: 2, 343: 2, 1263: 2, 284: 2, 227: 2, 429: 2, 243: 2, 1221: 2, 604: 2, 54: 2, 299: 2, 82: 2, 991: 2, 761: 2, 282: 2, 593: 2, 1247: 2, 459: 2, 96: 2, 379: 2, 961: 2, 1001: 2, 1122: 2, 450: 2, 835: 2, 416: 2, 1038: 2, 996: 2, 258: 2, 1047: 2, 903: 2, 1275: 2, 34: 2, 746: 2, 1193: 2, 1130: 2, 189: 2, 267: 2, 666: 2, 1272: 2, 312: 2, 720: 1, 341: 1, 477: 1, 407: 1, 685: 1, 756: 1, 1015: 1, 636: 1, 790: 1, 640: 1, 591: 1, 310: 1, 634: 1, 580: 1, 46: 1, 535: 1, 423: 1, 326: 1, 826: 1, 504: 1, 829: 1, 887: 1, 1218: 1, 1201: 1, 163: 1, 671: 1, 1152: 1, 1102: 1, 947: 1, 245: 1, 31: 1, 10: 1, 159: 1, 612: 1, 538: 1, 86: 1, 191: 1, 1143: 1, 965: 1, 342: 1, 782: 1, 33: 1, 460: 1, 213: 1, 147: 1, 1082: 1, 675: 1, 57: 1, 360: 1, 1227: 1, 71: 1, 896: 1, 505: 1, 971: 1, 654: 1, 188: 1, 433: 1, 1124: 1, 316: 1, 372: 1, 1036: 1, 570: 1, 1168: 1, 1041: 1, 167: 1, 104: 1, 578: 1, 779: 1, 83: 1, 471: 1, 1121: 1, 710: 1, 1224: 1, 237: 1, 1011: 1, 769: 1, 687: 1, 1039: 1, 902: 1, 72: 1, 1273: 1, 1252: 1, 968: 1, 719: 1, 561: 1, 417: 1, 667: 1, 172: 1, 822: 1, 650: 1, 1242: 1, 273: 1, 154: 1, 1028: 1, 77: 1, 749: 1, 234: 1, 1156: 1, 926: 1, 986: 1, 768: 1, 921: 1, 218: 1, 317: 1, 682: 1, 524: 1, 774: 1, 392: 1, 255: 1, 942: 1, 1161: 1, 785: 1, 993: 1, 616: 1, 17: 1, 866: 1, 219: 1, 268: 1, 102: 1, 837: 1, 378: 1, 2: 1, 110: 1, 210: 1, 427: 1, 232: 1, 577: 1, 1191: 1, 858: 1, 840: 1, 833: 1, 708: 1, 757: 1, 832: 1, 489: 1, 1177: 1, 778: 1, 94: 1, 340: 1, 843: 1, 967: 1, 891: 1, 1105: 1, 257: 1, 414: 1, 936: 1, 1087: 1, 945: 1, 263: 1, 760: 1, 1208: 1, 702: 1, 662: 1, 1055: 1, 716: 1, 872: 1, 527: 1, 1059: 1, 1144: 1, 239: 1, 1140: 1})\n",
            "Classification accuracy: 54.491426344505065\n",
            "==================\n",
            "\n",
            "Evaluate test data:  data/Multi-trigger-Multi-target/lipstick_poisoned_data.h5\n",
            "10264it [16:09, 10.58it/s]\n",
            "Counter({1283: 7582, 1: 1890, 5: 56, 50: 9, 1178: 8, 78: 6, 995: 6, 619: 6, 8: 5, 401: 5, 910: 5, 1134: 5, 1213: 5, 698: 5, 481: 5, 549: 5, 941: 5, 339: 5, 192: 5, 1051: 5, 322: 5, 566: 5, 390: 5, 532: 5, 1225: 5, 984: 5, 913: 5, 122: 5, 642: 5, 311: 5, 1112: 5, 1262: 5, 465: 4, 901: 4, 351: 4, 649: 4, 663: 4, 144: 4, 931: 4, 92: 4, 4: 4, 567: 4, 85: 4, 1171: 4, 47: 4, 1198: 4, 68: 4, 36: 4, 732: 4, 596: 4, 1089: 4, 44: 4, 1153: 4, 212: 4, 1098: 4, 253: 4, 695: 3, 1045: 3, 315: 3, 1166: 3, 187: 3, 343: 3, 598: 3, 435: 3, 1037: 3, 133: 3, 32: 3, 1053: 3, 545: 3, 277: 3, 156: 3, 889: 3, 27: 3, 802: 3, 281: 3, 991: 3, 384: 3, 461: 3, 589: 3, 295: 3, 1004: 3, 1057: 3, 194: 3, 1013: 3, 502: 3, 386: 3, 1096: 3, 494: 3, 304: 3, 33: 3, 365: 3, 140: 3, 970: 3, 1221: 3, 369: 3, 611: 3, 306: 3, 279: 3, 1203: 3, 155: 3, 704: 3, 96: 3, 1130: 3, 1110: 3, 447: 3, 568: 3, 368: 3, 416: 3, 332: 3, 358: 3, 1024: 3, 952: 2, 1257: 2, 1244: 2, 341: 2, 672: 2, 764: 2, 453: 2, 84: 2, 529: 2, 501: 2, 397: 2, 878: 2, 701: 2, 594: 2, 463: 2, 656: 2, 871: 2, 981: 2, 1157: 2, 723: 2, 399: 2, 257: 2, 886: 2, 150: 2, 291: 2, 305: 2, 585: 2, 1261: 2, 348: 2, 924: 2, 668: 2, 1270: 2, 652: 2, 51: 2, 583: 2, 977: 2, 1097: 2, 1263: 2, 284: 2, 213: 2, 675: 2, 299: 2, 82: 2, 761: 2, 282: 2, 593: 2, 1247: 2, 474: 2, 449: 2, 1199: 2, 459: 2, 379: 2, 961: 2, 1001: 2, 1122: 2, 450: 2, 835: 2, 1038: 2, 258: 2, 276: 2, 1047: 2, 903: 2, 1275: 2, 34: 2, 1193: 2, 1043: 2, 49: 2, 189: 2, 267: 2, 312: 2, 477: 1, 407: 1, 685: 1, 1219: 1, 756: 1, 1015: 1, 52: 1, 636: 1, 790: 1, 640: 1, 591: 1, 310: 1, 634: 1, 869: 1, 46: 1, 535: 1, 423: 1, 326: 1, 826: 1, 504: 1, 222: 1, 829: 1, 887: 1, 759: 1, 1218: 1, 1201: 1, 441: 1, 163: 1, 671: 1, 1152: 1, 1102: 1, 947: 1, 31: 1, 159: 1, 612: 1, 538: 1, 1065: 1, 86: 1, 191: 1, 932: 1, 1143: 1, 1060: 1, 965: 1, 342: 1, 782: 1, 151: 1, 460: 1, 429: 1, 147: 1, 1082: 1, 243: 1, 57: 1, 360: 1, 1227: 1, 71: 1, 896: 1, 505: 1, 971: 1, 654: 1, 188: 1, 433: 1, 1124: 1, 316: 1, 372: 1, 854: 1, 1036: 1, 570: 1, 89: 1, 1168: 1, 1041: 1, 167: 1, 104: 1, 1167: 1, 578: 1, 779: 1, 83: 1, 1139: 1, 227: 1, 1121: 1, 1207: 1, 710: 1, 1224: 1, 237: 1, 1011: 1, 769: 1, 687: 1, 1039: 1, 902: 1, 72: 1, 1273: 1, 1252: 1, 233: 1, 968: 1, 719: 1, 1033: 1, 417: 1, 667: 1, 172: 1, 822: 1, 15: 1, 650: 1, 1242: 1, 273: 1, 154: 1, 1028: 1, 571: 1, 77: 1, 749: 1, 234: 1, 1156: 1, 926: 1, 986: 1, 768: 1, 921: 1, 203: 1, 218: 1, 97: 1, 682: 1, 1268: 1, 392: 1, 255: 1, 942: 1, 54: 1, 1161: 1, 785: 1, 993: 1, 616: 1, 17: 1, 604: 1, 866: 1, 219: 1, 268: 1, 331: 1, 102: 1, 837: 1, 378: 1, 2: 1, 996: 1, 110: 1, 210: 1, 427: 1, 232: 1, 577: 1, 1191: 1, 858: 1, 840: 1, 833: 1, 708: 1, 440: 1, 757: 1, 832: 1, 489: 1, 1177: 1, 778: 1, 94: 1, 340: 1, 666: 1, 843: 1, 891: 1, 1272: 1, 1105: 1, 414: 1, 936: 1, 1087: 1, 945: 1, 263: 1, 760: 1, 1208: 1, 702: 1, 662: 1, 1055: 1, 716: 1, 872: 1, 527: 1, 361: 1, 1144: 1, 239: 1, 1093: 1, 746: 1, 1140: 1})\n",
            "Classification accuracy: 18.413873733437256\n",
            "==================\n",
            "\n",
            "Evaluate test data:  data/Multi-trigger-Multi-target/sunglasses_poisoned_data.h5\n",
            "10264it [14:53, 11.48it/s]\n",
            "Counter({1283: 9208, 8: 1056})\n",
            "Classification accuracy: 10.288386593920498\n",
            "==================\n"
          ],
          "name": "stdout"
        }
      ]
    }
  ]
}